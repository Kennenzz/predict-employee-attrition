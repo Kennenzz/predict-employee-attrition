{
  "nbformat": 4,
  "nbformat_minor": 0,
  "metadata": {
    "colab": {
      "provenance": [],
      "authorship_tag": "ABX9TyORX3gKBc3rKazcLtZ0ayuX",
      "include_colab_link": true
    },
    "kernelspec": {
      "name": "python3",
      "display_name": "Python 3"
    },
    "language_info": {
      "name": "python"
    }
  },
  "cells": [
    {
      "cell_type": "markdown",
      "metadata": {
        "id": "view-in-github",
        "colab_type": "text"
      },
      "source": [
        "<a href=\"https://colab.research.google.com/github/Kennenzz/predict-employee-attrition/blob/main/Train.ipynb\" target=\"_parent\"><img src=\"https://colab.research.google.com/assets/colab-badge.svg\" alt=\"Open In Colab\"/></a>"
      ]
    },
    {
      "cell_type": "markdown",
      "source": [
        "#**XÂY DỰNG MÔ HÌNH DỰ ĐOÁN NGUY CƠ NGHỈ VIỆC CỦA NHÂN VIÊN**\n",
        "---"
      ],
      "metadata": {
        "id": "VdMwbHRpAcLX"
      }
    },
    {
      "cell_type": "markdown",
      "source": [
        "#Import các thư viện sẽ sử dụng trong đồ án bao gồm:\n",
        "*   **Pandas**\n",
        "*   **Numpy**\n",
        "*   **Matplotlib**\n",
        "*   **Seaborn**"
      ],
      "metadata": {
        "id": "cBRRZhYFayCv"
      }
    },
    {
      "cell_type": "code",
      "source": [
        "import pandas as pd\n",
        "import numpy as np\n",
        "import matplotlib.pyplot as plt\n",
        "import seaborn as sns\n"
      ],
      "metadata": {
        "id": "EoDfnMDoag1n"
      },
      "execution_count": 2,
      "outputs": []
    },
    {
      "cell_type": "markdown",
      "source": [
        "---\n",
        "#Đọc file dataset có được từ trang web *Kaggle.com*"
      ],
      "metadata": {
        "id": "aKCdcTQ2Zr11"
      }
    },
    {
      "cell_type": "code",
      "source": [
        "try:\n",
        "    df = pd.read_csv('/content/WA_Fn-UseC_-HR-Employee-Attrition.csv')\n",
        "    display(df.head())\n",
        "except FileNotFoundError:\n",
        "    print(\"Lỗi: Không tìm thấy file dataset trong dữ liệu folder\")\n",
        "except Exception as e:\n",
        "    print(f\"Có lỗi xảy ra: {e}\")"
      ],
      "metadata": {
        "id": "dFn3C3RS5qSC",
        "colab": {
          "base_uri": "https://localhost:8080/"
        },
        "outputId": "df7dfb52-45da-4c7a-f810-18ac07a5585b",
        "collapsed": true
      },
      "execution_count": 3,
      "outputs": [
        {
          "output_type": "stream",
          "name": "stdout",
          "text": [
            "Lỗi: Không tìm thấy file dataset trong dữ liệu folder\n"
          ]
        }
      ]
    },
    {
      "cell_type": "markdown",
      "source": [
        "---\n",
        "#Mô tả tổng quan về dataset"
      ],
      "metadata": {
        "id": "A1UkOCtJeFqx"
      }
    },
    {
      "cell_type": "code",
      "source": [
        "display(df.info())\n",
        "display(df.describe())\n",
        "display(df.shape)"
      ],
      "metadata": {
        "colab": {
          "base_uri": "https://localhost:8080/",
          "height": 183
        },
        "id": "gKZShx0ueeeQ",
        "outputId": "fea75279-2d04-4f7f-e342-623bc25849e3",
        "collapsed": true
      },
      "execution_count": 4,
      "outputs": [
        {
          "output_type": "error",
          "ename": "NameError",
          "evalue": "name 'df' is not defined",
          "traceback": [
            "\u001b[0;31m---------------------------------------------------------------------------\u001b[0m",
            "\u001b[0;31mNameError\u001b[0m                                 Traceback (most recent call last)",
            "\u001b[0;32m/tmp/ipython-input-2729738343.py\u001b[0m in \u001b[0;36m<cell line: 0>\u001b[0;34m()\u001b[0m\n\u001b[0;32m----> 1\u001b[0;31m \u001b[0mdisplay\u001b[0m\u001b[0;34m(\u001b[0m\u001b[0mdf\u001b[0m\u001b[0;34m.\u001b[0m\u001b[0minfo\u001b[0m\u001b[0;34m(\u001b[0m\u001b[0;34m)\u001b[0m\u001b[0;34m)\u001b[0m\u001b[0;34m\u001b[0m\u001b[0;34m\u001b[0m\u001b[0m\n\u001b[0m\u001b[1;32m      2\u001b[0m \u001b[0mdisplay\u001b[0m\u001b[0;34m(\u001b[0m\u001b[0mdf\u001b[0m\u001b[0;34m.\u001b[0m\u001b[0mdescribe\u001b[0m\u001b[0;34m(\u001b[0m\u001b[0;34m)\u001b[0m\u001b[0;34m)\u001b[0m\u001b[0;34m\u001b[0m\u001b[0;34m\u001b[0m\u001b[0m\n\u001b[1;32m      3\u001b[0m \u001b[0mdisplay\u001b[0m\u001b[0;34m(\u001b[0m\u001b[0mdf\u001b[0m\u001b[0;34m.\u001b[0m\u001b[0mshape\u001b[0m\u001b[0;34m)\u001b[0m\u001b[0;34m\u001b[0m\u001b[0;34m\u001b[0m\u001b[0m\n",
            "\u001b[0;31mNameError\u001b[0m: name 'df' is not defined"
          ]
        }
      ]
    },
    {
      "cell_type": "markdown",
      "source": [
        "#Tổng quan:\n",
        "Dataset gồm 35 cột và 1470 dòng dữ liệu."
      ],
      "metadata": {
        "id": "hmYAJRswe3fX"
      }
    },
    {
      "cell_type": "markdown",
      "source": [
        "---\n",
        "# Phân loại các biến trong dataset"
      ],
      "metadata": {
        "id": "BfOQYufYgV6T"
      }
    },
    {
      "cell_type": "code",
      "metadata": {
        "id": "134d3860",
        "collapsed": true
      },
      "source": [
        "# cần run file từ đầu đến cuối\n",
        "numerical_cols = df.select_dtypes(include=np.number).columns\n",
        "categorical_cols = df.select_dtypes(include='object').columns\n",
        "\n",
        "print(\"Biến số:\")\n",
        "display(numerical_cols)\n",
        "\n",
        "print(\"\\nBiến phân loại:\")\n",
        "display(categorical_cols)"
      ],
      "execution_count": null,
      "outputs": []
    },
    {
      "cell_type": "markdown",
      "source": [
        "---\n",
        "#**Tiền xử lý dữ liệu**\n",
        "1.   Xử lý dữ liệu thiếu"
      ],
      "metadata": {
        "id": "vn5IxNXchp7t"
      }
    },
    {
      "cell_type": "code",
      "source": [
        "df.isnull().sum()\n"
      ],
      "metadata": {
        "id": "yzEuyuUthy-b",
        "collapsed": true
      },
      "execution_count": null,
      "outputs": []
    },
    {
      "cell_type": "markdown",
      "source": [
        "**Không có dữ liệu thiếu trong dataset**"
      ],
      "metadata": {
        "id": "6sVR5mWQh-2m"
      }
    },
    {
      "cell_type": "markdown",
      "source": [
        "2.   Xử lý dữ liệu dư thừa, dữ liệu nhiễu (không liên quan)"
      ],
      "metadata": {
        "id": "-I63RCDViX60"
      }
    },
    {
      "cell_type": "code",
      "source": [
        "df.drop(columns=['Over18', 'EmployeeNumber', 'EmployeeCount'], axis =1, inplace= True)"
      ],
      "metadata": {
        "id": "zq7qIM7GAYkL"
      },
      "execution_count": null,
      "outputs": []
    },
    {
      "cell_type": "code",
      "source": [
        "display(df.info())\n",
        "display(df.describe())\n",
        "display(df.shape)"
      ],
      "metadata": {
        "collapsed": true,
        "id": "Y8iyMoQItSsU"
      },
      "execution_count": null,
      "outputs": []
    },
    {
      "cell_type": "markdown",
      "source": [
        "Qua quan sát dữ liệu thì có thể thấy các cột dữ liệu không cần thiết như sau:\n",
        "*   **Over18** tất cả nhân viên đều đã trên 18 tuổi\n",
        "*   **EmployeeCount** luôn có giá trị là 1\n",
        "*   **EmployeeNumber** luôn có giá trị khác nhau như việc nhân viên có mã nhân viên\n"
      ],
      "metadata": {
        "id": "tiVDqoOflLNu"
      }
    },
    {
      "cell_type": "markdown",
      "source": [
        "3.   Xử lý mã hóa biến phân loại"
      ],
      "metadata": {
        "id": "5vECD2SSysS9"
      }
    },
    {
      "cell_type": "code",
      "source": [
        "display(df.info())\n",
        "display(df.describe())\n",
        "display(df.shape)"
      ],
      "metadata": {
        "collapsed": true,
        "id": "3qi-y8r0tedh"
      },
      "execution_count": null,
      "outputs": []
    },
    {
      "cell_type": "code",
      "metadata": {
        "id": "3eeffc8a"
      },
      "source": [
        "from sklearn.preprocessing import LabelEncoder\n",
        "\n",
        "# Encode the target variable 'Attrition'\n",
        "df['Attrition'] = df['Attrition'].map({'Yes': 1, 'No': 0})\n",
        "\n",
        "# Identify categorical columns (excluding 'Attrition' as it's already encoded)\n",
        "categorical_cols = df.select_dtypes(include='object').columns\n",
        "\n",
        "# Apply encoding to the remaining categorical columns\n",
        "for col in categorical_cols:\n",
        "    if df[col].nunique() == 2:\n",
        "        # Apply Label Encoding for binary columns\n",
        "        le = LabelEncoder()\n",
        "        df[col] = le.fit_transform(df[col])\n",
        "    else:\n",
        "        # Apply One-Hot Encoding for columns with more than two unique values\n",
        "        df = pd.get_dummies(df, columns=[col], drop_first=True)\n",
        "\n",
        "display(df.head())"
      ],
      "execution_count": null,
      "outputs": []
    },
    {
      "cell_type": "markdown",
      "source": [
        "---\n",
        "#**KHAI PHÁ DỮ LIỆU EDA**\n"
      ],
      "metadata": {
        "id": "N7U8QdgdiNne"
      }
    },
    {
      "cell_type": "code",
      "metadata": {
        "id": "54b64132"
      },
      "source": [
        "# 1. Count the number of employees who stayed (0) and left (1)\n",
        "attrition_counts = df['Attrition'].value_counts()\n",
        "print(\"Số lượng nhân viên nghỉ việc và không nghỉ việc:\")\n",
        "display(attrition_counts)\n",
        "\n",
        "# 2. Visualize the distribution using a countplot\n",
        "plt.figure(figsize=(6, 4))\n",
        "sns.countplot(data=df, x='Attrition', palette='viridis')\n",
        "plt.title('Tỷ lệ nghỉ việc vs ở lại')\n",
        "plt.xticks([0, 1], ['Ở lại', 'Nghỉ việc'])\n",
        "plt.xlabel('Nghỉ việc')\n",
        "plt.ylabel('Số lượng nhân viên')\n",
        "plt.show()\n",
        "\n",
        "# 3. Display the percentage of attrition\n",
        "attrition_percentage = (attrition_counts[1] / len(df)) * 100\n",
        "print(f\"\\nPhần trăm nhân viên nghỉ việc: {attrition_percentage:.2f}%\")"
      ],
      "execution_count": null,
      "outputs": []
    }
  ]
}