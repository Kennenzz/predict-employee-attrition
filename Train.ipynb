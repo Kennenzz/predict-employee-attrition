{
  "cells": [
    {
      "cell_type": "markdown",
      "metadata": {
        "colab_type": "text",
        "id": "view-in-github"
      },
      "source": [
        "<a href=\"https://colab.research.google.com/github/Kennenzz/predict-employee-attrition/blob/main/Train.ipynb\" target=\"_parent\"><img src=\"https://colab.research.google.com/assets/colab-badge.svg\" alt=\"Open In Colab\"/></a>\n"
      ]
    },
    {
      "cell_type": "markdown",
      "metadata": {
        "id": "VdMwbHRpAcLX"
      },
      "source": [
        "**XÂY DỰNG MÔ HÌNH DỰ ĐOÁN NGUY CƠ NGHỈ VIỆC CỦA NHÂN VIÊN**\n",
        "---"
      ]
    },
    {
      "cell_type": "markdown",
      "metadata": {
        "id": "cBRRZhYFayCv"
      },
      "source": [
        "**#Import các thư viện sẽ sử dụng trong đồ án bao gồm:**\n",
        "*   **Pandas**\n",
        "*   **Numpy**\n",
        "*   **Matplotlib**\n",
        "*   **Seaborn**"
      ]
    },
    {
      "cell_type": "code",
      "execution_count": null,
      "metadata": {
        "id": "EoDfnMDoag1n"
      },
      "outputs": [],
      "source": [
        "import pandas as pd\n",
        "import numpy as np\n",
        "import matplotlib.pyplot as plt\n",
        "import seaborn as sns\n",
        "from imblearn.over_sampling import SMOTE\n",
        "from sklearn.preprocessing import LabelEncoder\n",
        "from sklearn.model_selection import train_test_split\n",
        "from sklearn.linear_model import LogisticRegression\n",
        "from sklearn.metrics import classification_report, confusion_matrix, accuracy_score"
      ]
    },
    {
      "cell_type": "markdown",
      "metadata": {
        "id": "aKCdcTQ2Zr11"
      },
      "source": [
        "---\n",
        "**Đọc file dataset**"
      ]
    },
    {
      "cell_type": "code",
      "execution_count": null,
      "metadata": {
        "colab": {
          "base_uri": "https://localhost:8080/"
        },
        "collapsed": true,
        "id": "dFn3C3RS5qSC",
        "outputId": "df7dfb52-45da-4c7a-f810-18ac07a5585b"
      },
      "outputs": [],
      "source": [
        "try:\n",
        "    df = pd.read_csv(\"Dataset.csv\")\n",
        "    display(df.head())\n",
        "except FileNotFoundError:\n",
        "    print(\"Lỗi: Không tìm thấy file dataset trong dữ liệu folder\")\n",
        "except Exception as e:\n",
        "    print(f\"Có lỗi xảy ra: {e}\")"
      ]
    },
    {
      "cell_type": "markdown",
      "metadata": {
        "id": "A1UkOCtJeFqx"
      },
      "source": [
        "---\n",
        "**Mô tả tổng quan về dataset**"
      ]
    },
    {
      "cell_type": "code",
      "execution_count": null,
      "metadata": {
        "colab": {
          "base_uri": "https://localhost:8080/",
          "height": 183
        },
        "collapsed": true,
        "id": "gKZShx0ueeeQ",
        "outputId": "fea75279-2d04-4f7f-e342-623bc25849e3"
      },
      "outputs": [],
      "source": [
        "display(df.info())\n",
        "display(df.describe())\n",
        "display(df.shape)"
      ]
    },
    {
      "cell_type": "markdown",
      "metadata": {
        "id": "hmYAJRswe3fX"
      },
      "source": [
        "**Tổng quan: Dataset raw data về employee gồm có 1470 mẫu và 35 cột (thuộc tinh)**\n"
      ]
    },
    {
      "cell_type": "markdown",
      "metadata": {
        "id": "BfOQYufYgV6T"
      },
      "source": [
        "---\n",
        "# Phân loại các biến trong dataset"
      ]
    },
    {
      "cell_type": "code",
      "execution_count": null,
      "metadata": {
        "collapsed": true,
        "id": "134d3860"
      },
      "outputs": [],
      "source": [
        "# cần run file từ đầu đến cuối\n",
        "numerical_cols = df.select_dtypes(include=np.number).columns\n",
        "categorical_cols = df.select_dtypes(include='object').columns\n",
        "\n",
        "print(\"Biến số:\")\n",
        "display(numerical_cols)\n",
        "\n",
        "print(\"\\nBiến phân loại:\")\n",
        "display(categorical_cols)"
      ]
    },
    {
      "cell_type": "markdown",
      "metadata": {
        "id": "vn5IxNXchp7t"
      },
      "source": [
        "---\n",
        "**Tiền xử lý dữ liệu**"
      ]
    },
    {
      "cell_type": "code",
      "execution_count": null,
      "metadata": {},
      "outputs": [],
      "source": [
        "# Xử lý chuẩn hóa dữ liệu\n",
        "for col in numerical_cols:\n",
        "    df[col] = pd.to_numeric(df[col], errors='coerce')  # Chuyển đổi sang kiểu số, lỗi sẽ thành NaN\n",
        "    if df[col].isnull().any():\n",
        "        print(f\"Cảnh báo: Cột '{col}' có giá trị không thể chuyển đổi sang số.\")\n",
        "    print(f\"Cột '{col}' đã được chuyển đổi sang kiểu số.\")\n",
        "\n",
        "\n",
        "for col in categorical_cols:\n",
        "    unique_values = df[col].unique()\n",
        "    print(f\"Giá trị duy nhất trong cột '{col}': {unique_values}\")\n",
        "    df[col] = df[col].str.strip().str.lower()   # Loại bỏ khoảng trắng và chuyển về chữ thường  \n",
        "    unique_values_after = df[col].unique()\n",
        "    print(f\"Giá trị duy nhất trong cột '{col}' sau khi xử lý: {unique_values_after}\")"
      ]
    },
    {
      "cell_type": "markdown",
      "metadata": {},
      "source": [
        "Xử lý dữ liệu thiếu"
      ]
    },
    {
      "cell_type": "code",
      "execution_count": null,
      "metadata": {
        "collapsed": true,
        "id": "yzEuyuUthy-b"
      },
      "outputs": [],
      "source": [
        "df.isnull().sum()\n"
      ]
    },
    {
      "cell_type": "markdown",
      "metadata": {
        "id": "6sVR5mWQh-2m"
      },
      "source": [
        "*Không có dữ liệu thiếu trong dataset*"
      ]
    },
    {
      "cell_type": "markdown",
      "metadata": {
        "id": "-I63RCDViX60"
      },
      "source": [
        "*Xử lý dữ liệu dư thừa, dữ liệu nhiễu (không liên quan)*"
      ]
    },
    {
      "cell_type": "code",
      "execution_count": null,
      "metadata": {
        "id": "zq7qIM7GAYkL"
      },
      "outputs": [],
      "source": [
        "df.drop(columns=['Over18', 'EmployeeNumber', 'EmployeeCount','StandardHours'], axis =1, inplace= True)\n",
        "# Cập nhật lại danh sách biến phân loại sau khi loại bỏ cột\n",
        "numerical_cols = df.select_dtypes(include=np.number).columns\n",
        "categorical_cols = df.select_dtypes(include='object').columns"
      ]
    },
    {
      "cell_type": "markdown",
      "metadata": {
        "id": "tiVDqoOflLNu"
      },
      "source": [
        "Qua quan sát dữ liệu thì có thể thấy các cột dữ liệu không cần thiết như sau:\n",
        "*   **Over18** tất cả nhân viên đều đã trên 18 tuổi\n",
        "*   **EmployeeCount** luôn có giá trị là 1\n",
        "*   **EmployeeNumber** luôn có giá trị khác nhau như việc nhân viên có mã nhân viên\n",
        "*   **StandardHours** luôn có giá trị là 80"
      ]
    },
    {
      "cell_type": "code",
      "execution_count": null,
      "metadata": {},
      "outputs": [],
      "source": [
        "display(df.info())\n",
        "display(df.describe())\n",
        "display(df.shape)"
      ]
    },
    {
      "cell_type": "markdown",
      "metadata": {},
      "source": [
        "**Kiểu tra xem có dữ liệu trùng lặp hay không**"
      ]
    },
    {
      "cell_type": "code",
      "execution_count": null,
      "metadata": {},
      "outputs": [],
      "source": [
        "\n",
        "duplicate_rows = df[df.duplicated()]\n",
        "print(f\"Số hàng trùng lặp: {duplicate_rows.shape[0]}\")\n",
        "print(\"Các hàng trùng lặp:\")\n",
        "display(duplicate_rows)\n"
      ]
    },
    {
      "cell_type": "markdown",
      "metadata": {
        "id": "5vECD2SSysS9"
      },
      "source": [
        "**Xử lý mã hóa biến phân loại**"
      ]
    },
    {
      "cell_type": "code",
      "execution_count": null,
      "metadata": {
        "collapsed": true,
        "id": "3qi-y8r0tedh"
      },
      "outputs": [],
      "source": [
        "print(\"Các biến phân loại sau khi loại bỏ cột không cần thiết:\")\n",
        "display(categorical_cols)\n"
      ]
    },
    {
      "cell_type": "markdown",
      "metadata": {},
      "source": [
        "*Mã hóa biến mục tiêu \"Attrition\" thành 0/1 và xử lý mã hóa các biến phân loại*"
      ]
    },
    {
      "cell_type": "code",
      "execution_count": null,
      "metadata": {
        "id": "3eeffc8a"
      },
      "outputs": [],
      "source": [
        "label_encoder = LabelEncoder()\n",
        "df['Attrition'] = label_encoder.fit_transform(df['Attrition'])\n",
        "\n",
        "def mahoabienphanloai(encoder):\n",
        "    for col in categorical_cols:\n",
        "        if col not in ['Attrition','Over18']:  # Bỏ qua cột đã mã hóa hoặc không cần mã hóa\n",
        "            df[col] = encoder.fit_transform(df[col])\n",
        "mahoabienphanloai(label_encoder)"
      ]
    },
    {
      "cell_type": "markdown",
      "metadata": {},
      "source": [
        "**Dùng IQR phát hiện các outliers và tạo ra bộ dữ liệu loại bỏ các outlier**"
      ]
    },
    {
      "cell_type": "code",
      "execution_count": null,
      "metadata": {},
      "outputs": [],
      "source": [
        "# Phát hiện ngoại lệ sử dụng IQR\n",
        "Q1 = df[numerical_cols].quantile(0.25)\n",
        "Q3 = df[numerical_cols].quantile(0.75)\n",
        "IQR = Q3 - Q1\n",
        "print(\"IQR values:\")\n",
        "print(IQR)\n",
        "outlier_condition = ((df[numerical_cols] < (Q1 - 1.5 * IQR)) | (df[numerical_cols] > (Q3 + 1.5 * IQR)))\n",
        "outlier_indices = outlier_condition.any(axis=1)\n",
        "print(\"Chỉ số của các hàng có ngoại lệ:\")\n",
        "print(outlier_indices[outlier_indices].index.tolist())\n",
        "print(f\"\\nSố lượng ngoại lệ phát hiện: {outlier_indices.sum()}\")\n",
        "df_cleaned = df[~outlier_indices]\n",
        "print(f\"Số lượng mẫu ban đầu: {df.shape[0]}\")\n",
        "print(f\"Số lượng mẫu sau khi loại bỏ ngoại lệ: {df_cleaned.shape[0]}\")"
      ]
    },
    {
      "cell_type": "markdown",
      "metadata": {},
      "source": [
        "**Xử lý mất cân bằng dữ liệu dùng phương pháp SMOTE**"
      ]
    },
    {
      "cell_type": "code",
      "execution_count": null,
      "metadata": {},
      "outputs": [],
      "source": [
        "# Xử lý mất cân bằng dữ liệu sử dụng SMOTE (Chỉ áp dụng trên bộ dữ liệu gốc)\n",
        "X = df.drop('Attrition', axis=1)\n",
        "y = df['Attrition']\n",
        "smote = SMOTE(random_state=42)\n",
        "X_resampled, y_resampled = smote.fit_resample(X, y)\n",
        "print(f\"Số lượng mẫu trước khi áp dụng SMOTE: {y.value_counts().to_dict()}\")\n",
        "print(f\"Số lượng mẫu sau khi áp dụng SMOTE: {pd.Series(y_resampled).value_counts().to_dict()}\")\n",
        "df_resampled = pd.concat([X_resampled, y_resampled], axis=1)\n",
        "display(df_resampled.info())"
      ]
    },
    {
      "cell_type": "markdown",
      "metadata": {
        "id": "N7U8QdgdiNne"
      },
      "source": [
        "---\n",
        "#**KHAI PHÁ DỮ LIỆU EDA**\n"
      ]
    },
    {
      "cell_type": "markdown",
      "metadata": {},
      "source": [
        "*Tổng quan về tình hình nghỉ việc của nhân viên*"
      ]
    },
    {
      "cell_type": "code",
      "execution_count": null,
      "metadata": {
        "id": "54b64132"
      },
      "outputs": [],
      "source": [
        "# 1. Đếm số lượng nhân viên nghỉ việc và không nghỉ việc\n",
        "attrition_counts = df['Attrition'].value_counts()\n",
        "print(\"Số lượng nhân viên nghỉ việc và không nghỉ việc:\")\n",
        "display(attrition_counts)\n",
        "\n",
        "# 2. Vẽ biểu đồ cột cho tỷ lệ nghỉ việc\n",
        "plt.figure(figsize=(6, 4))\n",
        "sns.countplot(data=df, x='Attrition', palette='viridis')\n",
        "plt.title('Tỷ lệ nghỉ việc vs ở lại')\n",
        "plt.xticks([0, 1], ['Ở lại', 'Nghỉ việc'])\n",
        "plt.xlabel('Nghỉ việc')\n",
        "plt.ylabel('Số lượng nhân viên')\n",
        "plt.show()\n",
        "\n",
        "# 3. Hiển thị phần trăm nhân viên nghỉ việc\n",
        "if 1 in attrition_counts.index:\n",
        "\tattrition_percentage = (attrition_counts[1] / len(df)) * 100\n",
        "\tprint(f\"\\nPhần trăm nhân viên nghỉ việc: {attrition_percentage:.2f}%\")\n",
        "else:\n",
        "\tprint(\"\\nKhông tìm thấy giá trị '1' trong cột 'Attrition'. Kiểm tra lại dữ liệu mã hóa.\")"
      ]
    },
    {
      "cell_type": "code",
      "execution_count": null,
      "metadata": {},
      "outputs": [],
      "source": [
        "# Lấy các biến số (loại trừ biến kiểu bool)\n",
        "filtered_numerical_cols = df.select_dtypes(include=['int64', 'float64']).columns\n",
        "\n",
        "# Tính số hàng và cột cho subplot\n",
        "import math\n",
        "num_plots = len(filtered_numerical_cols)\n",
        "cols = 5\n",
        "rows = math.ceil(num_plots / cols)\n",
        "\n",
        "plt.figure(figsize=(24, 18))\n",
        "for idx, col in enumerate(filtered_numerical_cols):\n",
        "    plt.subplot(rows, cols, idx + 1)\n",
        "    sns.histplot(df[col], bins=20, kde=True, color='skyblue')\n",
        "    plt.title(f'Biểu đồ Histogram: {col}')\n",
        "plt.tight_layout()\n",
        "plt.show()\n",
        "\n",
        "# Vẽ countplot cho các biến phân loại (chỉ vẽ cho các biến đã được mã hóa nhị phân)\n",
        "plt.figure(figsize=(24, 12))\n",
        "for i, col in enumerate(df.columns[df.dtypes == 'bool']):\n",
        "    plt.subplot(4, 5, i + 1)\n",
        "    sns.countplot(x=col, data=df, palette='viridis')\n",
        "    plt.title(f'Biểu đồ Countplot: {col}')\n",
        "plt.tight_layout()\n",
        "plt.show()"
      ]
    },
    {
      "cell_type": "code",
      "execution_count": null,
      "metadata": {},
      "outputs": [],
      "source": [
        "plt.figure(figsize=(24, 18))\n",
        "for idx, col in enumerate(filtered_numerical_cols):\n",
        "    plt.subplot(rows, cols, idx + 1)\n",
        "    sns.histplot(data=df, x=col, hue='Attrition', bins=20, kde=True, palette='viridis', alpha=0.7)\n",
        "    plt.title(f'Histogram: {col} theo Attrition')\n",
        "plt.tight_layout()\n",
        "plt.show()"
      ]
    },
    {
      "cell_type": "code",
      "execution_count": null,
      "metadata": {},
      "outputs": [],
      "source": [
        "# Vẽ countplot giữa các biến phân loại và biến mục tiêu Attrition\n",
        "plt.figure(figsize=(24, 18))\n",
        "for idx, col in enumerate(categorical_cols):\n",
        "    plt.subplot(3, 3, idx + 1)\n",
        "    # Nếu cột đã được one-hot encoding, vẽ countplot cho từng biến mới liên quan\n",
        "    related_cols = [c for c in df.columns if c.startswith(col + \"_\") or c == col]\n",
        "    for rel_col in related_cols:\n",
        "        sns.countplot(data=df, x=rel_col, hue='Attrition', palette='viridis')\n",
        "        plt.title(f'Countplot: {rel_col} vs Attrition')\n",
        "        plt.xlabel(rel_col)\n",
        "        plt.ylabel('Số lượng')\n",
        "    plt.title(f'Countplot: {col} vs Attrition')\n",
        "    plt.xlabel(col)\n",
        "    plt.ylabel('Số lượng')\n",
        "plt.tight_layout()\n",
        "plt.show()"
      ]
    },
    {
      "cell_type": "code",
      "execution_count": null,
      "metadata": {},
      "outputs": [],
      "source": [
        "plt.figure(figsize=(14, 6))\n",
        "\n",
        "# Histogram for Age\n",
        "plt.subplot(1, 2, 1)\n",
        "sns.histplot(data=df, x='Age', hue='Attrition', bins=20, kde=True, palette='viridis', alpha=0.7)\n",
        "plt.title('Phân phối Age theo Attrition')\n",
        "plt.xlabel('Age')\n",
        "plt.ylabel('Số lượng')\n",
        "\n",
        "# Histogram for MonthlyIncome\n",
        "plt.subplot(1, 2, 2)\n",
        "sns.histplot(data=df, x='MonthlyIncome', hue='Attrition', bins=20, kde=True, palette='viridis', alpha=0.7)\n",
        "plt.title('Phân phối MonthlyIncome theo Attrition')\n",
        "plt.xlabel('MonthlyIncome')\n",
        "plt.ylabel('Số lượng')\n",
        "\n",
        "plt.tight_layout()\n",
        "plt.show()"
      ]
    },
    {
      "cell_type": "code",
      "execution_count": null,
      "metadata": {},
      "outputs": [],
      "source": [
        "# Tính ma trận tương quan\n",
        "corr_matrix = df.corr()\n",
        "\n",
        "# Vẽ heatmap với seaborn\n",
        "plt.figure(figsize=(18, 14))\n",
        "sns.heatmap(corr_matrix, annot=False, cmap='coolwarm', linewidths=0.5)\n",
        "plt.title('Heatmap Ma trận tương quan các biến')\n",
        "plt.show()"
      ]
    },
    {
      "cell_type": "code",
      "execution_count": null,
      "metadata": {},
      "outputs": [],
      "source": [
        "\n",
        "print(\"Phân phối của biến mục tiêu 'Attrition':\")\n",
        "print(df['Attrition'].value_counts(normalize=True))\n",
        "print(df['Attrition'].value_counts())"
      ]
    },
    {
      "cell_type": "markdown",
      "metadata": {},
      "source": [
        "*Chia bộ dữ liệu ra làm 2 phần 70/30 để huấn luyện mô hình*"
      ]
    },
    {
      "cell_type": "code",
      "execution_count": null,
      "metadata": {},
      "outputs": [],
      "source": [
        "# chia bộ dữ liệu ra làm 2 phần 70/30 để huấn luyện mô hình\n",
        "from sklearn.model_selection import train_test_split\n",
        "X = df.drop('Attrition', axis=1)\n",
        "y = df['Attrition']\n",
        "X_train, X_test, y_train, y_test = train_test_split(X, y, test_size=0.3, random_state=42, stratify=y)\n",
        "print(f\"Số lượng mẫu trong tập huấn luyện: {X_train.shape[0]}\")\n",
        "print(f\"Số lượng mẫu trong tập kiểm tra: {X_test.shape[0]}\")\n",
        "print(f\"Số lượng mẫu trong tập huấn luyện theo lớp:\\n{y_train.value_counts()}\")\n",
        "print(f\"Số lượng mẫu trong tập kiểm tra theo lớp:\\n{y_test.value_counts()}\")\n"
      ]
    },
    {
      "cell_type": "markdown",
      "metadata": {},
      "source": [
        "# Xây dựng mô hình (Build Model)"
      ]
    },
    {
      "cell_type": "markdown",
      "metadata": {},
      "source": [
        "Mô hình hồi quy"
      ]
    },
    {
      "cell_type": "code",
      "execution_count": null,
      "metadata": {},
      "outputs": [],
      "source": [
        "# Huấn luyện mô hình Logistic Regression và đánh giá\n",
        "from sklearn.linear_model import LogisticRegression\n",
        "from sklearn.metrics import classification_report, confusion_matrix, accuracy_score\n",
        "model = LogisticRegression(max_iter=1000)\n",
        "model.fit(X_train, y_train)\n",
        "y_pred = model.predict(X_test)\n",
        "print(\"Báo cáo phân loại:\")\n",
        "print(classification_report(y_test, y_pred))\n",
        "print(\"Ma trận nhầm lẫn:\")\n",
        "print(confusion_matrix(y_test, y_pred))\n",
        "print(confusion_matrix(y_test, y_pred))\n",
        "print(f\"Độ chính xác của mô hình: {accuracy_score(y_test, y_pred):.4f}\")"
      ]
    },
    {
      "cell_type": "markdown",
      "metadata": {},
      "source": [
        "Mô hình cây quyết định (Decision Tree)"
      ]
    },
    {
      "cell_type": "code",
      "execution_count": null,
      "metadata": {},
      "outputs": [],
      "source": [
        "# Xây dựng mô hình dự đoán theo mô hình cây quyết định"
      ]
    },
    {
      "cell_type": "markdown",
      "metadata": {},
      "source": [
        "Mô hình Random Forest"
      ]
    },
    {
      "cell_type": "code",
      "execution_count": null,
      "metadata": {},
      "outputs": [],
      "source": [
        "# xây dựng mô hình Random Forest"
      ]
    },
    {
      "cell_type": "markdown",
      "metadata": {},
      "source": [
        "Mô hình KNN"
      ]
    },
    {
      "cell_type": "code",
      "execution_count": null,
      "metadata": {},
      "outputs": [],
      "source": [
        "# Xây dựng mô hình KNN (K-Nearest Neighbors)"
      ]
    }
  ],
  "metadata": {
    "colab": {
      "authorship_tag": "ABX9TyORX3gKBc3rKazcLtZ0ayuX",
      "include_colab_link": true,
      "provenance": []
    },
    "kernelspec": {
      "display_name": "Python 3",
      "name": "python3"
    },
    "language_info": {
      "codemirror_mode": {
        "name": "ipython",
        "version": 3
      },
      "file_extension": ".py",
      "mimetype": "text/x-python",
      "name": "python",
      "nbconvert_exporter": "python",
      "pygments_lexer": "ipython3",
      "version": "3.12.6"
    }
  },
  "nbformat": 4,
  "nbformat_minor": 0
}
