{
 "cells": [
  {
   "cell_type": "markdown",
   "metadata": {
    "colab_type": "text",
    "id": "view-in-github"
   },
   "source": [
    "<a href=\"https://colab.research.google.com/github/Kennenzz/predict-employee-attrition/blob/main/Train.ipynb\" target=\"_parent\"><img src=\"https://colab.research.google.com/assets/colab-badge.svg\" alt=\"Open In Colab\"/></a>\n"
   ]
  },
  {
   "cell_type": "markdown",
   "metadata": {
    "id": "VdMwbHRpAcLX"
   },
   "source": [
    "**XÂY DỰNG MÔ HÌNH DỰ ĐOÁN NGUY CƠ NGHỈ VIỆC CỦA NHÂN VIÊN**\n",
    "---"
   ]
  },
  {
   "cell_type": "markdown",
   "metadata": {
    "id": "cBRRZhYFayCv"
   },
   "source": [
    "**#Import các thư viện sẽ sử dụng trong đồ án bao gồm:**\n",
    "*   **Pandas**\n",
    "*   **Numpy**\n",
    "*   **Matplotlib**\n",
    "*   **Seaborn**\n",
    "*   **Matplotlib**\n",
    "*   **Imblearn**\n",
    "*   **Sklearn**\n",
    "*   **LightGBM**\n",
    "*   **XGBoost**\n",
    "*   **Pytorch Tabnet**"
   ]
  },
  {
   "cell_type": "code",
   "execution_count": null,
   "metadata": {
    "id": "EoDfnMDoag1n"
   },
   "outputs": [],
   "source": [
    "import pandas as pd\n",
    "import joblib\n",
    "import math\n",
    "import numpy as np\n",
    "import matplotlib.pyplot as plt\n",
    "import seaborn as sns\n",
    "import shap\n",
    "import tensorflow as tf\n",
    "from imblearn.over_sampling import SMOTE\n",
    "from sklearn.preprocessing import LabelEncoder\n",
    "from sklearn.model_selection import train_test_split, GridSearchCV\n",
    "from sklearn.linear_model import LogisticRegression\n",
    "from sklearn.tree import DecisionTreeClassifier\n",
    "from sklearn.metrics import classification_report, confusion_matrix, accuracy_score, ConfusionMatrixDisplay\n",
    "from pytorch_tabnet.tab_model import TabNetClassifier\n",
    "import lightgbm as lgb\n",
    "from sklearn.svm import SVC\n",
    "from xgboost import XGBClassifier\n",
    "from sklearn.neighbors import KNeighborsClassifier\n",
    "from sklearn.metrics import roc_auc_score, roc_curve\n",
    "from sklearn.preprocessing import StandardScaler"
   ]
  },
  {
   "cell_type": "markdown",
   "metadata": {
    "id": "aKCdcTQ2Zr11"
   },
   "source": [
    "---\n",
    "**Đọc file dataset**"
   ]
  },
  {
   "cell_type": "code",
   "execution_count": null,
   "metadata": {
    "colab": {
     "base_uri": "https://localhost:8080/"
    },
    "collapsed": true,
    "id": "dFn3C3RS5qSC",
    "outputId": "df7dfb52-45da-4c7a-f810-18ac07a5585b"
   },
   "outputs": [],
   "source": [
    "try:\n",
    "    df = pd.read_csv(\"Dataset.csv\")\n",
    "    display(df.head())\n",
    "except FileNotFoundError:\n",
    "    print(\"Lỗi: Không tìm thấy file dataset trong dữ liệu folder\")\n",
    "except Exception as e:\n",
    "    print(f\"Có lỗi xảy ra: {e}\")"
   ]
  },
  {
   "cell_type": "markdown",
   "metadata": {
    "id": "A1UkOCtJeFqx"
   },
   "source": [
    "---\n",
    "**Mô tả tổng quan về dataset**"
   ]
  },
  {
   "cell_type": "code",
   "execution_count": null,
   "metadata": {
    "colab": {
     "base_uri": "https://localhost:8080/",
     "height": 183
    },
    "collapsed": true,
    "id": "gKZShx0ueeeQ",
    "outputId": "fea75279-2d04-4f7f-e342-623bc25849e3"
   },
   "outputs": [],
   "source": [
    "display(df.info())\n",
    "display(df.describe())\n",
    "display(df.shape)"
   ]
  },
  {
   "cell_type": "markdown",
   "metadata": {
    "id": "hmYAJRswe3fX"
   },
   "source": [
    "**Tổng quan: Dataset thông tin của nhân viên gồm có 1470 mẫu và 35 cột (thuộc tinh)**\n"
   ]
  },
  {
   "cell_type": "markdown",
   "metadata": {
    "id": "BfOQYufYgV6T"
   },
   "source": [
    "---\n",
    "# Phân loại các biến trong dataset"
   ]
  },
  {
   "cell_type": "code",
   "execution_count": null,
   "metadata": {
    "collapsed": true,
    "id": "134d3860"
   },
   "outputs": [],
   "source": [
    "numerical_cols = df.select_dtypes(include=np.number).columns\n",
    "categorical_cols = df.select_dtypes(include='object').columns\n",
    "\n",
    "print(\"Biến số:\")\n",
    "display(numerical_cols)\n",
    "\n",
    "print(\"\\nBiến phân loại:\")\n",
    "display(categorical_cols)"
   ]
  },
  {
   "cell_type": "markdown",
   "metadata": {
    "id": "vn5IxNXchp7t"
   },
   "source": [
    "---\n",
    "**Tiền xử lý dữ liệu**"
   ]
  },
  {
   "cell_type": "code",
   "execution_count": null,
   "metadata": {},
   "outputs": [],
   "source": [
    "# Xử lý chuẩn hóa dữ liệu\n",
    "for col in numerical_cols:\n",
    "    df[col] = pd.to_numeric(df[col], errors='coerce')  # Chuyển đổi sang kiểu số, lỗi sẽ thành NaN\n",
    "    if df[col].isnull().any():\n",
    "        print(f\"Cảnh báo: Cột '{col}' có giá trị không thể chuyển đổi sang số.\")\n",
    "    print(f\"Cột '{col}' đã được chuyển đổi sang kiểu số.\")\n",
    "\n",
    "\n",
    "for col in categorical_cols:\n",
    "    unique_values = df[col].unique()\n",
    "    print(f\"Giá trị duy nhất trong cột '{col}': {unique_values}\")\n",
    "    df[col] = df[col].str.strip().str.lower()   # Loại bỏ khoảng trắng và chuyển về chữ thường  \n",
    "    unique_values_after = df[col].unique()\n",
    "    print(f\"Giá trị duy nhất trong cột '{col}' sau khi xử lý: {unique_values_after}\")"
   ]
  },
  {
   "cell_type": "markdown",
   "metadata": {},
   "source": [
    "Xử lý dữ liệu thiếu"
   ]
  },
  {
   "cell_type": "code",
   "execution_count": null,
   "metadata": {
    "collapsed": true,
    "id": "yzEuyuUthy-b"
   },
   "outputs": [],
   "source": [
    "df.isnull().sum()\n"
   ]
  },
  {
   "cell_type": "markdown",
   "metadata": {
    "id": "6sVR5mWQh-2m"
   },
   "source": [
    "*Không có dữ liệu thiếu trong dataset*"
   ]
  },
  {
   "cell_type": "markdown",
   "metadata": {
    "id": "-I63RCDViX60"
   },
   "source": [
    "*Xử lý dữ liệu dư thừa, dữ liệu gây nhiễu (không liên quan)*"
   ]
  },
  {
   "cell_type": "code",
   "execution_count": null,
   "metadata": {
    "id": "zq7qIM7GAYkL"
   },
   "outputs": [],
   "source": [
    "df.drop(columns=['Over18', 'EmployeeNumber', 'EmployeeCount','StandardHours'], axis =1, inplace= True)\n",
    "# Cập nhật lại danh sách biến phân loại sau khi loại bỏ cột\n",
    "numerical_cols = df.select_dtypes(include=np.number).columns\n",
    "categorical_cols = df.select_dtypes(include='object').columns"
   ]
  },
  {
   "cell_type": "markdown",
   "metadata": {
    "id": "tiVDqoOflLNu"
   },
   "source": [
    "Qua quan sát dữ liệu thì có thể thấy các cột dữ liệu không cần thiết như sau:\n",
    "*   **Over18** tất cả nhân viên đều đã trên 18 tuổi\n",
    "*   **EmployeeCount** luôn có giá trị là 1\n",
    "*   **EmployeeNumber** luôn có giá trị khác nhau như việc nhân viên có mã nhân viên\n",
    "*   **StandardHours** luôn có giá trị là 80"
   ]
  },
  {
   "cell_type": "code",
   "execution_count": null,
   "metadata": {},
   "outputs": [],
   "source": [
    "display(df.info())\n",
    "display(df.describe())\n",
    "display(df.shape)"
   ]
  },
  {
   "cell_type": "markdown",
   "metadata": {},
   "source": [
    "**Kiểu tra xem có dữ liệu trùng lặp hay không**"
   ]
  },
  {
   "cell_type": "code",
   "execution_count": null,
   "metadata": {},
   "outputs": [],
   "source": [
    "\n",
    "duplicate_rows = df[df.duplicated()]\n",
    "print(f\"Số hàng trùng lặp: {duplicate_rows.shape[0]}\")\n",
    "print(\"Các hàng trùng lặp:\")\n",
    "display(duplicate_rows)\n"
   ]
  },
  {
   "cell_type": "markdown",
   "metadata": {
    "id": "5vECD2SSysS9"
   },
   "source": [
    "**Xử lý mã hóa biến phân loại**"
   ]
  },
  {
   "cell_type": "code",
   "execution_count": null,
   "metadata": {
    "collapsed": true,
    "id": "3qi-y8r0tedh"
   },
   "outputs": [],
   "source": [
    "print(\"Các biến phân loại sau khi loại bỏ cột không cần thiết:\")\n",
    "display(categorical_cols)\n"
   ]
  },
  {
   "cell_type": "markdown",
   "metadata": {},
   "source": [
    "*Mã hóa biến mục tiêu \"Attrition\" thành 0/1 và xử lý mã hóa các biến phân loại*"
   ]
  },
  {
   "cell_type": "code",
   "execution_count": null,
   "metadata": {
    "id": "3eeffc8a"
   },
   "outputs": [],
   "source": [
    "label_encoder = LabelEncoder()\n",
    "df['Attrition'] = label_encoder.fit_transform(df['Attrition'])\n",
    "\n",
    "def mahoabienphanloai(encoder):\n",
    "    for col in categorical_cols:\n",
    "        if col not in ['Attrition','Over18']:  # Bỏ qua cột đã mã hóa hoặc không cần mã hóa\n",
    "            df[col] = encoder.fit_transform(df[col])\n",
    "mahoabienphanloai(label_encoder)"
   ]
  },
  {
   "cell_type": "code",
   "execution_count": null,
   "metadata": {},
   "outputs": [],
   "source": [
    "display(df.info())\n",
    "# hiện 100 dòng đầu tiên\n",
    "display(df.head(100))"
   ]
  },
  {
   "cell_type": "markdown",
   "metadata": {},
   "source": [
    "**Dùng IQR phát hiện các outliers và tạo ra bộ dữ liệu loại bỏ các outlier**"
   ]
  },
  {
   "cell_type": "code",
   "execution_count": null,
   "metadata": {},
   "outputs": [],
   "source": [
    "# Phát hiện ngoại lệ sử dụng IQR\n",
    "Q1 = df[numerical_cols].quantile(0.25)\n",
    "Q3 = df[numerical_cols].quantile(0.75)\n",
    "IQR = Q3 - Q1\n",
    "print(\"IQR values:\")\n",
    "print(IQR)\n",
    "outlier_condition = ((df[numerical_cols] < (Q1 - 1.5 * IQR)) | (df[numerical_cols] > (Q3 + 1.5 * IQR)))\n",
    "outlier_indices = outlier_condition.any(axis=1)\n",
    "print(\"Chỉ số của các hàng có ngoại lệ:\")\n",
    "print(outlier_indices[outlier_indices].index.tolist())\n",
    "print(f\"\\nSố lượng ngoại lệ phát hiện: {outlier_indices.sum()}\")\n",
    "df_cleaned_outliers = df[~outlier_indices]\n",
    "print(f\"Số lượng mẫu ban đầu: {df.shape[0]}\")\n",
    "print(f\"Số lượng mẫu sau khi loại bỏ ngoại lệ: {df_cleaned_outliers.shape[0]}\")"
   ]
  },
  {
   "cell_type": "markdown",
   "metadata": {},
   "source": [
    "Do việc dùng IQR để loại bỏ các ngoại lệ trong dataset gây ra sự giảm sút lớn về mặt dữ liệu mẫu (loại bỏ đến 50% mẫu) nên sẽ dùng thêm phương pháp cắt tỉa winsorizing đặt các giá trị ngoại lai về 1 ngưỡng chứ không xóa bỏ hoàn toàn giá trị ngoại lai"
   ]
  },
  {
   "cell_type": "code",
   "execution_count": null,
   "metadata": {},
   "outputs": [],
   "source": [
    "# Dùng phương pháp winsorizing để xử lý ngoại lệ\n",
    "from scipy.stats.mstats import winsorize\n",
    "for col in numerical_cols:\n",
    "    df[col] = winsorize(df[col], limits=[0.05, 0.05])\n",
    "    # Cắt tỉa 5% ở hai đầu\n",
    "    # Giữ lại 90% dữ liệu ở giữa, thay thế 5% giá trị nhỏ nhất và lớn nhất bằng ngưỡng tương ứng\n",
    "    print(f\"Cột '{col}' đã được xử lý ngoại lệ bằng phương pháp winsorizing.\")"
   ]
  },
  {
   "cell_type": "code",
   "execution_count": null,
   "metadata": {},
   "outputs": [],
   "source": [
    "# Phân tích và tìm ra các đặc trưng quan trọng trong bộ dữ liệu\n",
    "X = df.drop('Attrition', axis=1)\n",
    "y = df['Attrition']\n",
    "shap_explainer = shap.TreeExplainer(XGBClassifier().fit(X, y))\n",
    "shap_values = shap_explainer.shap_values(X)\n",
    "shap.summary_plot(shap_values, X)\n",
    "important_features = np.abs(shap_values).mean(axis=0)\n",
    "feature_importance = pd.DataFrame({'Feature': X.columns, 'Importance': important_features})\n",
    "feature_importance = feature_importance.sort_values(by='Importance', ascending=False)\n",
    "display(feature_importance)\n",
    "# lưu lại 12 đặc trưng quan trọng nhất trong bộ dữ liệu khác\n",
    "top_12_features = feature_importance['Feature'].head(12).tolist()\n",
    "df_top_12 = df[top_12_features + ['Attrition']]\n",
    "display(df_top_12.head())\n",
    "df_top_12_cleaned_outliers = df_cleaned_outliers[top_12_features + ['Attrition']]\n",
    "display(df_top_12_cleaned_outliers.head())\n"
   ]
  },
  {
   "cell_type": "markdown",
   "metadata": {
    "id": "N7U8QdgdiNne"
   },
   "source": [
    "---\n",
    "#**KHAI PHÁ DỮ LIỆU EDA**\n"
   ]
  },
  {
   "cell_type": "markdown",
   "metadata": {},
   "source": [
    "*Tổng quan về tình hình nghỉ việc của nhân viên*"
   ]
  },
  {
   "cell_type": "code",
   "execution_count": null,
   "metadata": {
    "id": "54b64132"
   },
   "outputs": [],
   "source": [
    "# 1. Đếm số lượng nhân viên nghỉ việc và không nghỉ việc\n",
    "attrition_counts = df['Attrition'].value_counts()\n",
    "print(\"Số lượng nhân viên nghỉ việc và không nghỉ việc:\")\n",
    "display(attrition_counts)\n",
    "\n",
    "# 2. Vẽ biểu đồ cột cho tỷ lệ nghỉ việc\n",
    "plt.figure(figsize=(6, 4))\n",
    "sns.countplot(data=df, x='Attrition', palette='viridis')\n",
    "plt.title('Tỷ lệ nghỉ việc vs ở lại')\n",
    "plt.xticks([0, 1], ['Ở lại', 'Nghỉ việc'])\n",
    "plt.xlabel('Nghỉ việc')\n",
    "plt.ylabel('Số lượng nhân viên')\n",
    "plt.show()\n",
    "\n",
    "# 3. Hiển thị phần trăm nhân viên nghỉ việc\n",
    "if 1 in attrition_counts.index:\n",
    "\tattrition_percentage = (attrition_counts[1] / len(df)) * 100\n",
    "\tprint(f\"\\nPhần trăm nhân viên nghỉ việc: {attrition_percentage:.2f}%\")\n",
    "else:\n",
    "\tprint(\"\\nKhông tìm thấy giá trị '1' trong cột 'Attrition'. Kiểm tra lại dữ liệu mã hóa.\")"
   ]
  },
  {
   "cell_type": "code",
   "execution_count": null,
   "metadata": {},
   "outputs": [],
   "source": [
    "# Lấy các biến số (loại trừ biến kiểu bool)\n",
    "filtered_numerical_cols = df.select_dtypes(include=['int64', 'float64']).columns\n",
    "# Tính số hàng và cột cho subplot\n",
    "num_plots = len(filtered_numerical_cols)\n",
    "cols = 5\n",
    "rows = math.ceil(num_plots / cols)\n",
    "\n",
    "plt.figure(figsize=(24, 18))\n",
    "for idx, col in enumerate(filtered_numerical_cols):\n",
    "    plt.subplot(rows, cols, idx + 1)\n",
    "    sns.histplot(df[col], bins=20, kde=True, color='skyblue')\n",
    "    plt.title(f'Biểu đồ Histogram: {col}')\n",
    "plt.tight_layout()\n",
    "plt.show()\n",
    "\n",
    "# Vẽ countplot cho các biến phân loại (chỉ vẽ cho các biến đã được mã hóa nhị phân)\n",
    "plt.figure(figsize=(24, 12))\n",
    "for i, col in enumerate(df.columns[df.dtypes == 'bool']):\n",
    "    plt.subplot(4, 5, i + 1)\n",
    "    sns.countplot(x=col, data=df, palette='viridis')\n",
    "    plt.title(f'Biểu đồ Countplot: {col}')\n",
    "plt.tight_layout()\n",
    "plt.show()"
   ]
  },
  {
   "cell_type": "code",
   "execution_count": null,
   "metadata": {},
   "outputs": [],
   "source": [
    "plt.figure(figsize=(24, 18))\n",
    "for idx, col in enumerate(filtered_numerical_cols):\n",
    "    plt.subplot(rows, cols, idx + 1)\n",
    "    sns.histplot(data=df, x=col, hue='Attrition', bins=20, kde=True, palette='viridis', alpha=0.7)\n",
    "    plt.title(f'Histogram: {col} theo Attrition')\n",
    "plt.tight_layout()\n",
    "plt.show()"
   ]
  },
  {
   "cell_type": "code",
   "execution_count": null,
   "metadata": {},
   "outputs": [],
   "source": [
    "# Vẽ countplot giữa các biến phân loại và biến mục tiêu Attrition\n",
    "plt.figure(figsize=(24, 18))\n",
    "for idx, col in enumerate(categorical_cols):\n",
    "    plt.subplot(3, 3, idx + 1)\n",
    "    # Nếu cột đã được one-hot encoding, vẽ countplot cho từng biến mới liên quan\n",
    "    related_cols = [c for c in df.columns if c.startswith(col + \"_\") or c == col]\n",
    "    for rel_col in related_cols:\n",
    "        sns.countplot(data=df, x=rel_col, hue='Attrition', palette='viridis')\n",
    "        plt.title(f'Countplot: {rel_col} vs Attrition')\n",
    "        plt.xlabel(rel_col)\n",
    "        plt.ylabel('Số lượng')\n",
    "    plt.title(f'Countplot: {col} vs Attrition')\n",
    "    plt.xlabel(col)\n",
    "    plt.ylabel('Số lượng')\n",
    "plt.tight_layout()\n",
    "plt.show()"
   ]
  },
  {
   "cell_type": "code",
   "execution_count": null,
   "metadata": {},
   "outputs": [],
   "source": [
    "plt.figure(figsize=(14, 6))\n",
    "\n",
    "# Histogram for Age\n",
    "plt.subplot(1, 2, 1)\n",
    "sns.histplot(data=df, x='Age', hue='Attrition', bins=20, kde=True, palette='viridis', alpha=0.7)\n",
    "plt.title('Phân phối Age theo Attrition')\n",
    "plt.xlabel('Age')\n",
    "plt.ylabel('Số lượng')\n",
    "\n",
    "# Histogram for MonthlyIncome\n",
    "plt.subplot(1, 2, 2)\n",
    "sns.histplot(data=df, x='MonthlyIncome', hue='Attrition', bins=20, kde=True, palette='viridis', alpha=0.7)\n",
    "plt.title('Phân phối MonthlyIncome theo Attrition')\n",
    "plt.xlabel('MonthlyIncome')\n",
    "plt.ylabel('Số lượng')\n",
    "\n",
    "plt.tight_layout()\n",
    "plt.show()"
   ]
  },
  {
   "cell_type": "code",
   "execution_count": null,
   "metadata": {},
   "outputs": [],
   "source": [
    "# Tính ma trận tương quan\n",
    "corr_matrix = df.corr()\n",
    "\n",
    "# Vẽ heatmap với seaborn\n",
    "plt.figure(figsize=(18, 14))\n",
    "sns.heatmap(corr_matrix, annot=False, cmap='coolwarm', linewidths=0.5)\n",
    "plt.title('Heatmap Ma trận tương quan các biến')\n",
    "plt.show()"
   ]
  },
  {
   "cell_type": "code",
   "execution_count": null,
   "metadata": {},
   "outputs": [],
   "source": [
    "\n",
    "print(\"Phân phối của biến mục tiêu 'Attrition':\")\n",
    "print(df['Attrition'].value_counts(normalize=True))\n",
    "print(df['Attrition'].value_counts())"
   ]
  },
  {
   "cell_type": "markdown",
   "metadata": {},
   "source": [
    "*Chia bộ dữ liệu ra làm 2 phần 70/30 để huấn luyện mô hình*"
   ]
  },
  {
   "cell_type": "code",
   "execution_count": null,
   "metadata": {},
   "outputs": [],
   "source": [
    "# chia bộ dữ liệu ra làm 2 phần 70/30 để huấn luyện mô hình\n",
    "X = df.drop('Attrition', axis=1)\n",
    "y = df['Attrition']\n",
    "X_train, X_test, y_train, y_test = train_test_split(X, y, test_size=0.3, random_state=42, stratify=y)\n",
    "print(f\"Số lượng mẫu trong tập huấn luyện: {X_train.shape[0]}\")\n",
    "print(f\"Số lượng mẫu trong tập kiểm tra: {X_test.shape[0]}\")\n",
    "print(f\"Số lượng mẫu trong tập huấn luyện theo lớp:\\n{y_train.value_counts()}\")\n",
    "print(f\"Số lượng mẫu trong tập kiểm tra theo lớp:\\n{y_test.value_counts()}\")\n",
    "\n",
    "# chia bộ dữ liệu đã loại bỏ outliers ra làm 2 phần 70/30\n",
    "X_cleaned_outliers = df_cleaned_outliers.drop('Attrition', axis=1)\n",
    "y_cleaned_outliers = df_cleaned_outliers['Attrition']\n",
    "X_cleaned_outliers_train, X_cleaned_outliers_test, y_cleaned_outliers_train, y_cleaned_outliers_test = train_test_split(\n",
    "\tX_cleaned_outliers, y_cleaned_outliers, test_size=0.3, random_state=42, stratify=y_cleaned_outliers\n",
    ")\n",
    "print(f\"Số lượng mẫu trong tập huấn luyện (sau khi resample và loại bỏ ngoại lệ): {X_cleaned_outliers_train.shape[0]}\")\n",
    "print(f\"Số lượng mẫu trong tập kiểm tra (sau khi resample và loại bỏ ngoại lệ): {X_cleaned_outliers_test.shape[0]}\")\n",
    "print(f\"Số lượng mẫu trong tập huấn luyện theo lớp (sau khi resample và loại bỏ ngoại lệ):\\n{y_cleaned_outliers_train.value_counts()}\")\n",
    "print(f\"Số lượng mẫu trong tập kiểm tra theo lớp (sau khi resample và loại bỏ ngoại lệ):\\n{y_cleaned_outliers_test.value_counts()}\")\n",
    "\n",
    "# Chia bộ dữ liệu chỉ có 12 đặc trưng quan trọng nhất ra làm 2 phần 70/30\n",
    "X_top_12 = df_top_12.drop('Attrition', axis=1)\n",
    "y_top_12 = df_top_12['Attrition']\n",
    "X_top12_train, X_top12_test, y_top12_train, y_top12_test = train_test_split(X_top_12, y_top_12, test_size=0.3, random_state=42, stratify=y_top_12)\n",
    "print(f\"Số lượng mẫu trong tập huấn luyện (chỉ 12 đặc trưng quan trọng nhất): {X_top12_train.shape[0]}\")\n",
    "print(f\"Số lượng mẫu trong tập kiểm tra (chỉ 12 đặc trưng quan trọng nhất): {X_top12_test.shape[0]}\")\n",
    "print(f\"Số lượng mẫu trong tập huấn luyện theo lớp (chỉ 12 đặc trưng quan trọng nhất):\\n{y_top12_train.value_counts()}\")\n",
    "print(f\"Số lượng mẫu trong tập kiểm tra theo lớp (chỉ 12 đặc trưng quan trọng nhất):\\n{y_top12_test.value_counts()}\")\n"
   ]
  },
  {
   "cell_type": "markdown",
   "metadata": {},
   "source": [
    "Thực hiện Feature Scaling tập X để chuẩn hóa dữ liệu"
   ]
  },
  {
   "cell_type": "code",
   "execution_count": null,
   "metadata": {},
   "outputs": [],
   "source": [
    "# Thực hiện Feature Scaling tập X để chuẩn hóa dữ liệu\n",
    "scaler = StandardScaler()\n",
    "X_train = scaler.fit_transform(X_train)\n",
    "X_test = scaler.transform(X_test)     \n",
    "X_cleaned_outliers_train = scaler.transform(X_cleaned_outliers_train)\n",
    "X_cleaned_outliers_test = scaler.transform(X_cleaned_outliers_test)\n",
    "X_top_12_train = scaler.fit_transform(X_top_12_train)\n",
    "X_top_12_test = scaler.transform(X_top_12_test)"
   ]
  },
  {
   "cell_type": "markdown",
   "metadata": {},
   "source": [
    "**Xử lý mất cân bằng dữ liệu dùng phương pháp SMOTE**"
   ]
  },
  {
   "cell_type": "code",
   "execution_count": null,
   "metadata": {},
   "outputs": [],
   "source": [
    "# Xử lý mất cân bằng dữ liệu sử dụng SMOTE trên bộ dữ liệu huấn luyện\n",
    "smote = SMOTE(random_state=42)\n",
    "X_resampled_train, y_resampled_train = smote.fit_resample(X_train, y_train)\n",
    "print(f\"Số lượng mẫu trong tập huấn luyện sau khi resample: {X_resampled_train.shape[0]}\")\n",
    "print(f\"Số lượng mẫu trong tập huấn luyện theo lớp sau khi resample:\\n{y_resampled_train.value_counts()}\")\n",
    "# Xử lý mất cân bằng dữ liệu sử dụng SMOTE trên bộ dữ liệu đã loại bỏ outliers\n",
    "smote_outliers = SMOTE(random_state=42)\n",
    "X_resampled_cleaned_outliers_train, y_resampled_cleaned_outliers_train = smote_outliers.fit_resample(X_cleaned_outliers_train, y_cleaned_outliers_train)\n",
    "print(f\"Số lượng mẫu trong tập huấn luyện (sau khi loại bỏ outliers) sau khi resample: {X_resampled_cleaned_outliers_train.shape[0]}\")\n",
    "print(f\"Số lượng mẫu trong tập huấn luyện (sau khi loại bỏ outliers) theo lớp sau khi resample:\\n{y_resampled_cleaned_outliers_train.value_counts()}\")\n",
    "# Xử lý mất cân bằng dữ liệu sử dụng SMOTE trên bộ dữ liệu chỉ có 12 đặc trưng quan trọng nhất\n",
    "smote_top_12 = SMOTE(random_state=42)\n",
    "X_resampled_top_12_train, y_resampled_top_12_train = smote_top_12.fit_resample(X_top_12_train, y_top_12_train)\n",
    "print(f\"Số lượng mẫu trong tập huấn luyện (chỉ 12 đặc trưng quan trọng nhất) sau khi resample: {X_resampled_top_12_train.shape[0]}\")\n",
    "print(f\"Số lượng mẫu trong tập huấn luyện (chỉ 12 đặc trưng quan trọng nhất) theo lớp sau khi resample:\\n{y_resampled_top_12_train.value_counts()}\")\n"
   ]
  },
  {
   "cell_type": "markdown",
   "metadata": {},
   "source": [
    "# Xây dựng mô hình (Build Model)"
   ]
  },
  {
   "cell_type": "markdown",
   "metadata": {},
   "source": [
    "Xây dựng mô hình với bộ dữ liệu chưa qua resample bằng phương pháp SMOTE"
   ]
  },
  {
   "cell_type": "code",
   "execution_count": null,
   "metadata": {},
   "outputs": [],
   "source": [
    "# Huấn luyện mô hình Logistic Regression và đánh giá\n",
    "model = LogisticRegression(max_iter=1000)\n",
    "model.fit(X_train, y_train)\n",
    "y_pred = model.predict(X_test)\n",
    "print(\"Báo cáo phân loại:\") \n",
    "print(classification_report(y_test, y_pred))\n",
    "# Plot confusion matrix\n",
    "disp = ConfusionMatrixDisplay(confusion_matrix(y_test, y_pred), display_labels=[0,1])\n",
    "disp.plot(cmap='Blues', values_format='d')\n",
    "plt.title('Confusion Matrix - Logistic Regression')\n",
    "plt.show()\n",
    "print(f\"Độ chính xác của mô hình: {accuracy_score(y_test, y_pred):.4f}\")"
   ]
  },
  {
   "cell_type": "code",
   "execution_count": null,
   "metadata": {},
   "outputs": [],
   "source": [
    "# Huấn luyện mô hình Decision Tree và đánh giá\n",
    "model_dt = DecisionTreeClassifier(random_state=42)\n",
    "model_dt.fit(X_train, y_train)\n",
    "\n",
    "y_pred_dt = model_dt.predict(X_test)\n",
    "\n",
    "print(\"Báo cáo phân loại:\")\n",
    "print(classification_report(y_test, y_pred_dt))\n",
    "# Plot confusion matrix\n",
    "disp = ConfusionMatrixDisplay(confusion_matrix(y_test, y_pred_dt), display_labels=[0,1])\n",
    "disp.plot(cmap='Blues', values_format='d')\n",
    "plt.title('Confusion Matrix - Decision Tree')\n",
    "plt.show()\n",
    "print(f\"Độ chính xác của mô hình: {accuracy_score(y_test, y_pred_dt):.4f}\")"
   ]
  },
  {
   "cell_type": "code",
   "execution_count": null,
   "metadata": {},
   "outputs": [],
   "source": [
    "#huấn luyện mô hình random forest\n",
    "from sklearn.ensemble import RandomForestClassifier\n",
    "model_rf = RandomForestClassifier(n_estimators=100, random_state=42)\n",
    "model_rf.fit(X_train, y_train)\n",
    "y_pred_rf = model_rf.predict(X_test)\n",
    "print(\"Báo cáo phân loại:\")\n",
    "print(classification_report(y_test, y_pred_rf))\n",
    "# Plot confusion matrix\n",
    "disp = ConfusionMatrixDisplay(confusion_matrix(y_test, y_pred_rf), display_labels=[0,1])\n",
    "disp.plot(cmap='Blues', values_format='d')\n",
    "plt.title('Confusion Matrix - Random Forest')\n",
    "plt.show()\n",
    "print(f\"Độ chính xác của mô hình: {accuracy_score(y_test, y_pred_rf):.4f}\")"
   ]
  },
  {
   "cell_type": "code",
   "execution_count": null,
   "metadata": {},
   "outputs": [],
   "source": [
    "#huấn luyện mô hình KNN (K-Nearest Neighbors) với điểm k chạy từ 1 tới 30\n",
    "best_k = 1\n",
    "best_accuracy = 0\n",
    "for k in range(1, 31):\n",
    "    model_knn = KNeighborsClassifier(n_neighbors=k)\n",
    "    model_knn.fit(X_train, y_train)\n",
    "    y_pred_knn = model_knn.predict(X_test)\n",
    "    accuracy = accuracy_score(y_test, y_pred_knn)\n",
    "    if accuracy > best_accuracy:\n",
    "        best_accuracy = accuracy\n",
    "        best_k = k\n",
    "print(f\"Giá trị k tốt nhất: {best_k} với độ chính xác: {best_accuracy:.4f}\")\n",
    "model_knn = KNeighborsClassifier(n_neighbors=best_k)\n",
    "model_knn.fit(X_train, y_train)\n",
    "y_pred_knn = model_knn.predict(X_test)\n",
    "print(\"Báo cáo phân loại:\")\n",
    "print(classification_report(y_test, y_pred_knn))\n",
    "# Plot confusion matrix\n",
    "disp = ConfusionMatrixDisplay(confusion_matrix(y_test, y_pred_knn), display_labels=[0,1])\n",
    "disp.plot(cmap='Blues', values_format='d')\n",
    "plt.title('Confusion Matrix - KNN')\n",
    "plt.show()\n",
    "print(f\"Độ chính xác của mô hình: {accuracy_score(y_test, y_pred_knn):.4f}\")\n",
    "\n"
   ]
  },
  {
   "cell_type": "code",
   "execution_count": null,
   "metadata": {},
   "outputs": [],
   "source": [
    "# Huấn luyện mô hình XGBoost với dữ liệu chỉ qua tiền xử lý \n",
    "model_xgb = XGBClassifier(eval_metric='logloss', use_label_encoder=False, random_state=42)\n",
    "model_xgb.fit(X_train, y_train)\n",
    "y_pred_xgb = model_xgb.predict(X_test)\n",
    "\n",
    "print(\"Báo cáo phân loại:\")\n",
    "print(classification_report(y_test, y_pred_xgb))\n",
    "# Plot confusion matrix\n",
    "disp = ConfusionMatrixDisplay(confusion_matrix(y_test, y_pred_xgb), display_labels=[0,1])\n",
    "disp.plot(cmap='Blues', values_format='d')\n",
    "plt.title('Confusion Matrix - XGBoost')\n",
    "plt.show()\n",
    "print(f\"Độ chính xác của mô hình: {accuracy_score(y_test, y_pred_xgb):.4f}\")"
   ]
  },
  {
   "cell_type": "code",
   "execution_count": null,
   "metadata": {},
   "outputs": [],
   "source": [
    "# Huấn luyện mô hình LightGBM và đánh giá\n",
    "model_lgb = lgb.LGBMClassifier(random_state=42)\n",
    "model_lgb.fit(X_train, y_train)\n",
    "y_pred_lgb = model_lgb.predict(X_test)\n",
    "print(\"Báo cáo phân loại:\")\n",
    "print(classification_report(y_test, y_pred_lgb))\n",
    "# Plot confusion matrix\n",
    "disp = ConfusionMatrixDisplay(confusion_matrix(y_test, y_pred_lgb), display_labels=[0,1])\n",
    "disp.plot(cmap='Blues', values_format='d')\n",
    "plt.title('Confusion Matrix - LightGBM')\n",
    "plt.show()\n",
    "print(f\"Độ chính xác của mô hình: {accuracy_score(y_test, y_pred_lgb):.4f}\")\n"
   ]
  },
  {
   "cell_type": "code",
   "execution_count": null,
   "metadata": {},
   "outputs": [],
   "source": [
    "# Huấn luyện mô hình SVMmodel_svm = SVC(random_state=42)\n",
    "model_svm = SVC(random_state=42)\n",
    "model_svm.fit(X_train, y_train)\n",
    "y_pred_svm = model_svm.predict(X_test)\n",
    "print(\"Báo cáo phân loại:\")\n",
    "print(classification_report(y_test, y_pred_svm))\n",
    "# Plot confusion matrix\n",
    "disp = ConfusionMatrixDisplay(confusion_matrix(y_test, y_pred_svm), display_labels=[0,1])\n",
    "disp.plot(cmap='Blues', values_format='d')\n",
    "plt.title('Confusion Matrix - SVM')\n",
    "plt.show()\n",
    "print(f\"Độ chính xác của mô hình: {accuracy_score(y_test, y_pred_svm):.4f}\")\n"
   ]
  },
  {
   "cell_type": "code",
   "execution_count": null,
   "metadata": {},
   "outputs": [],
   "source": [
    "# Huấn luyện mô hình Tabnet\n",
    "# TabNetClassifier không nhận 'random_state' — dùng 'seed' nếu cần khởi tạo ngẫu nhiên\n",
    "# X_train / y_train có thể đã là numpy.ndarray (sau scaler), do đó tránh gọi .values trên numpy arrays\n",
    "X_tabnet = X_train if isinstance(X_train, np.ndarray) else X_train.values\n",
    "y_tabnet = y_train if isinstance(y_train, np.ndarray) else y_train.values\n",
    "\n",
    "model_tabnet = TabNetClassifier(seed=42)\n",
    "model_tabnet.fit(X_tabnet, y_tabnet, max_epochs=100, patience=10, batch_size=1024, virtual_batch_size=128)\n",
    "\n",
    "X_test_tabnet = X_test if isinstance(X_test, np.ndarray) else X_test.values\n",
    "y_pred_tabnet = model_tabnet.predict(X_test_tabnet)\n",
    "print(\"Báo cáo phân loại:\")\n",
    "print(classification_report(y_test, y_pred_tabnet))\n",
    "# Plot confusion matrix\n",
    "disp = ConfusionMatrixDisplay(confusion_matrix(y_test, y_pred_tabnet), display_labels=[0,1])\n",
    "disp.plot(cmap='Blues', values_format='d')\n",
    "plt.title('Confusion Matrix - TabNet')\n",
    "plt.show()\n",
    "print(f\"Độ chính xác của mô hình: {accuracy_score(y_test, y_pred_tabnet):.4f}\")\n"
   ]
  },
  {
   "cell_type": "code",
   "execution_count": null,
   "metadata": {},
   "outputs": [],
   "source": [
    "# Dùng SHAP để diễn giải tất cả các mô hình đã huấn luyện\n",
    "explainer_lr = shap.Explainer(model.predict, X_train)\n",
    "shap_values_lr = explainer_lr(X_test)\n",
    "shap.summary_plot(shap_values_lr, X_test, feature_names=X.columns, plot_type=\"bar\", show=False)\n",
    "plt.title(\"SHAP Summary Plot - Logistic Regression\")\n",
    "plt.show()\n",
    "explainer_dt = shap.Explainer(model_dt.predict, X_train)\n",
    "shap_values_dt = explainer_dt(X_test)\n",
    "shap.summary_plot(shap_values_dt, X_test, feature_names=X.columns, plot_type=\"bar\", show=False)\n",
    "plt.title(\"SHAP Summary Plot - Decision Tree\")\n",
    "plt.show()\n",
    "explainer_rf = shap.Explainer(model_rf.predict, X_train)\n",
    "shap_values_rf = explainer_rf(X_test)\n",
    "shap.summary_plot(shap_values_rf, X_test, feature_names=X.columns, plot_type=\"bar\", show=False)\n",
    "plt.title(\"SHAP Summary Plot - Random Forest\")\n",
    "plt.show()\n",
    "explainer_knn = shap.Explainer(model_knn.predict, X_train)\n",
    "shap_values_knn = explainer_knn(X_test)\n",
    "shap.summary_plot(shap_values_knn, X_test, feature_names=X.columns, plot_type=\"bar\", show=False)\n",
    "plt.title(\"SHAP Summary Plot - KNN\")\n",
    "plt.show()\n",
    "explainer_xgb = shap.Explainer(model_xgb.predict, X_train)\n",
    "shap_values_xgb = explainer_xgb(X_test)\n",
    "shap.summary_plot(shap_values_xgb, X_test, feature_names=X.columns, plot_type=\"bar\", show=False)\n",
    "plt.title(\"SHAP Summary Plot - XGBoost\")\n",
    "plt.show()\n",
    "explainer_lgb = shap.Explainer(model_lgb.predict, X_train)\n",
    "shap_values_lgb = explainer_lgb(X_test)\n",
    "shap.summary_plot(shap_values_lgb, X_test, feature_names=X.columns, plot_type=\"bar\", show=False)\n",
    "plt.title(\"SHAP Summary Plot - LightGBM\")\n",
    "plt.show()\n",
    "try:\n",
    "\texplainer_svm = shap.Explainer(model_svm.predict, X_train)\n",
    "\tshap_values_svm = explainer_svm(X_test)\n",
    "\tif isinstance(shap_values_svm, list):\n",
    "\t\tvals = shap_values_svm[1]  # Lấy giá trị SHAP cho lớp dương\n",
    "\telse:\n",
    "\t\tvals = shap_values_svm\n",
    "\tshap.summary_plot(vals, X_test, plot_type=\"bar\", feature_names=X_test.columns, show=False)\n",
    "\tplt.title(\"Tầm quan trọng của các đặc trưng - SVM\")\n",
    "\tplt.show()\n",
    "except Exception as e:\n",
    "\tprint(\"Không thể tạo SHAP cho SVM:\", e)\n",
    "try:\n",
    "\texplainer_tabnet = shap.Explainer(model_tabnet.predict, X_tabnet)\n",
    "\tshap_values_tabnet = explainer_tabnet(X_test_tabnet)\n",
    "\tshap.summary_plot(shap_values_tabnet, X_test_tabnet, feature_names=X.columns, plot_type=\"bar\", show=False)\n",
    "\tplt.title(\"SHAP Summary Plot - TabNet\")\n",
    "\tplt.show()\n",
    "except Exception as e:\n",
    "\tprint(\"Không thể tạo SHAP cho TabNet:\", e)"
   ]
  },
  {
   "cell_type": "code",
   "execution_count": null,
   "metadata": {},
   "outputs": [],
   "source": [
    "# Dùng tensorflow để so sánh các mô hình đã huấn luyện\n",
    "models = {\n",
    "    \"Logistic Regression\": model,\n",
    "    \"Decision Tree\": model_dt,\n",
    "    \"Random Forest\": model_rf,\n",
    "    \"KNN\": model_knn,\n",
    "    \"XGBoost\": model_xgb,\n",
    "    \"LightGBM\": model_lgb,\n",
    "    \"SVM\": model_svm,\n",
    "    \"TabNet\": model_tabnet\n",
    "}\n",
    "\n",
    "def _to_array(X):\n",
    "    # Nếu là pandas DataFrame/Series thì dùng .values, nếu đã là numpy.ndarray thì trả về trực tiếp\n",
    "    return X if isinstance(X, np.ndarray) else getattr(X, \"values\", X)\n",
    "\n",
    "auc_scores = {}\n",
    "for name, mdl in models.items():\n",
    "    try:\n",
    "        X_input = _to_array(X_test)\n",
    "        if name == \"TabNet\":\n",
    "            # TabNet expects numpy input; X_input đảm bảo là numpy.ndarray\n",
    "            y_probs = mdl.predict_proba(X_input)[:, 1]\n",
    "        else:\n",
    "            if hasattr(mdl, \"predict_proba\"):\n",
    "                y_probs = mdl.predict_proba(X_input)[:, 1]\n",
    "            elif hasattr(mdl, \"decision_function\"):\n",
    "                y_probs = mdl.decision_function(X_input)\n",
    "            else:\n",
    "                # fallback to hard predictions\n",
    "                y_probs = mdl.predict(X_input)\n",
    "        auc = roc_auc_score(y_test, y_probs)\n",
    "        auc_scores[name] = auc\n",
    "    except Exception as e:\n",
    "        # Nếu có lỗi, in thông báo và gán NaN cho model đó\n",
    "        print(f\"Không thể tính AUC cho {name}: {e}\")\n",
    "        auc_scores[name] = np.nan\n",
    "\n",
    "# Vẽ biểu đồ AUC cho các mô hình\n",
    "plt.figure(figsize=(10, 6))\n",
    "model_names = list(auc_scores.keys())\n",
    "auc_values = [auc_scores[m] for m in model_names]\n",
    "sns.barplot(x=model_names, y=auc_values, palette='viridis')\n",
    "plt.xticks(rotation=45)\n",
    "plt.ylabel('AUC Score')\n",
    "plt.title('So sánh AUC của các mô hình')\n",
    "plt.ylim(0, 1)\n",
    "plt.show()\n",
    "\n",
    "# Vẽ ROC Curve cho các mô hình\n",
    "plt.figure(figsize=(10, 6))\n",
    "for name, mdl in models.items():\n",
    "    try:\n",
    "        X_input = _to_array(X_test)\n",
    "        if name == \"TabNet\":\n",
    "            y_probs = mdl.predict_proba(X_input)[:, 1]\n",
    "        else:\n",
    "            if hasattr(mdl, \"predict_proba\"):\n",
    "                y_probs = mdl.predict_proba(X_input)[:, 1]\n",
    "            elif hasattr(mdl, \"decision_function\"):\n",
    "                y_probs = mdl.decision_function(X_input)\n",
    "            else:\n",
    "                y_probs = mdl.predict(X_input)\n",
    "        fpr, tpr, _ = roc_curve(y_test, y_probs)\n",
    "        plt.plot(fpr, tpr, label=f'{name} (AUC = {auc_scores[name]:.2f})')\n",
    "    except Exception as e:\n",
    "        print(f\"Không thể vẽ ROC Curve cho {name}: {e}\")\n",
    "plt.plot([0, 1], [0, 1], 'k--')  # Đường chéo\n",
    "plt.xlim([0.0, 1.0])\n",
    "plt.ylim([0.0, 1.05])\n",
    "plt.xlabel('False Positive Rate')\n",
    "plt.ylabel('True Positive Rate')\n",
    "plt.title('ROC Curve của các mô hình')\n",
    "plt.legend(loc='lower right')\n",
    "plt.show()\n",
    "\n"
   ]
  },
  {
   "cell_type": "markdown",
   "metadata": {},
   "source": [
    "Xây dựng mô hình với bộ dữ liệu đã qua resample bằng phương pháp SMOTE"
   ]
  },
  {
   "cell_type": "code",
   "execution_count": null,
   "metadata": {},
   "outputs": [],
   "source": [
    "#Dùng data đã qua resample để train model Logistic Regression\n",
    "model = LogisticRegression(max_iter=1000)\n",
    "model.fit(X_resampled_train, y_resampled_train)\n",
    "y_pred = model.predict(X_test)\n",
    "print(\"Báo cáo phân loại:\")\n",
    "print(classification_report(y_test, y_pred))\n",
    "# Plot confusion matrix\n",
    "disp = ConfusionMatrixDisplay(confusion_matrix(y_test, y_pred), display_labels=[0,1])\n",
    "disp.plot(cmap='Blues', values_format='d')\n",
    "plt.title('Confusion Matrix - Logistic Regression (resampled)')\n",
    "plt.show()\n",
    "print(f\"Độ chính xác của mô hình: {accuracy_score(y_test, y_pred):.4f}\")"
   ]
  },
  {
   "cell_type": "code",
   "execution_count": null,
   "metadata": {},
   "outputs": [],
   "source": [
    "# Huấn luyện mô hình Decision Tree và đánh giá với dữ liệu đã qua resample\n",
    "model_dt = DecisionTreeClassifier(random_state=42)\n",
    "model_dt.fit(X_resampled_train, y_resampled_train)\n",
    "\n",
    "y_pred_dt = model_dt.predict(X_test)\n",
    "\n",
    "print(\"Báo cáo phân loại:\")\n",
    "print(classification_report(y_test, y_pred_dt))\n",
    "# Plot confusion matrix\n",
    "disp = ConfusionMatrixDisplay(confusion_matrix(y_test, y_pred_dt), display_labels=[0,1])\n",
    "disp.plot(cmap='Blues', values_format='d')\n",
    "plt.title('Confusion Matrix - Decision Tree (resampled)')\n",
    "plt.show()\n",
    "print(f\"Độ chính xác của mô hình: {accuracy_score(y_test, y_pred_dt):.4f}\")"
   ]
  },
  {
   "cell_type": "code",
   "execution_count": null,
   "metadata": {},
   "outputs": [],
   "source": [
    "# Huấn luyện mô hình RandomForest và đánh giá với dữ liệu đã qua resample\n",
    "model_rf = RandomForestClassifier(n_estimators=100, random_state=42)\n",
    "model_rf.fit(X_resampled_train, y_resampled_train)\n",
    "y_pred_rf = model_rf.predict(X_test)\n",
    "print(\"Báo cáo phân loại:\")\n",
    "print(classification_report(y_test, y_pred_rf))\n",
    "# Plot confusion matrix\n",
    "disp = ConfusionMatrixDisplay(confusion_matrix(y_test, y_pred_rf), display_labels=[0,1])\n",
    "disp.plot(cmap='Blues', values_format='d')\n",
    "plt.title('Confusion Matrix - RandomForest (resampled)')\n",
    "plt.show()\n",
    "print(f\"Độ chính xác của mô hình: {accuracy_score(y_test, y_pred_rf):.4f}\")"
   ]
  },
  {
   "cell_type": "code",
   "execution_count": null,
   "metadata": {},
   "outputs": [],
   "source": [
    "# Huấn luyện mô hình KNN với dữ liệu đã qua resample cho K chạy từ 1 đến 30\n",
    "best_k = 1\n",
    "best_accuracy = 0\n",
    "for k in range(1, 31):\n",
    "    model_knn = KNeighborsClassifier(n_neighbors=k)\n",
    "    model_knn.fit(X_resampled_train, y_resampled_train)\n",
    "    y_pred_knn = model_knn.predict(X_test)\n",
    "    accuracy = accuracy_score(y_test, y_pred_knn)\n",
    "    if accuracy > best_accuracy:\n",
    "        best_accuracy = accuracy\n",
    "        best_k = k\n",
    "print(f\"Giá trị k tốt nhất: {best_k} với độ chính xác: {best_accuracy:.4f}\")\n",
    "model_knn = KNeighborsClassifier(n_neighbors=best_k)\n",
    "model_knn.fit(X_resampled_train, y_resampled_train)\n",
    "y_pred_knn = model_knn.predict(X_test)\n",
    "print(\"Báo cáo phân loại:\")\n",
    "print(classification_report(y_test, y_pred_knn))\n",
    "# Plot confusion matrix\n",
    "disp = ConfusionMatrixDisplay(confusion_matrix(y_test, y_pred_knn), display_labels=[0,1])\n",
    "disp.plot(cmap='Blues', values_format='d')\n",
    "plt.title('Confusion Matrix - KNN (resampled)')\n",
    "plt.show()\n",
    "print(f\"Độ chính xác của mô hình: {accuracy_score(y_test, y_pred_knn):.4f}\")"
   ]
  },
  {
   "cell_type": "code",
   "execution_count": null,
   "metadata": {},
   "outputs": [],
   "source": [
    "# Huấn luyện mô hình XGBoost với dữ liệu đã qua resample\n",
    "model_xgb = XGBClassifier(eval_metric='logloss', use_label_encoder=False, random_state=42)\n",
    "model_xgb.fit(X_resampled_train, y_resampled_train)\n",
    "y_pred_xgb = model_xgb.predict(X_test)\n",
    "\n",
    "print(\"Báo cáo phân loại:\")\n",
    "print(classification_report(y_test, y_pred_xgb))\n",
    "# Plot confusion matrix\n",
    "disp = ConfusionMatrixDisplay(confusion_matrix(y_test, y_pred_xgb), display_labels=[0,1])\n",
    "disp.plot(cmap='Blues', values_format='d')\n",
    "plt.title('Confusion Matrix - XGBoost (resampled)')\n",
    "plt.show()\n",
    "print(f\"Độ chính xác của mô hình: {accuracy_score(y_test, y_pred_xgb):.4f}\")"
   ]
  },
  {
   "cell_type": "code",
   "execution_count": null,
   "metadata": {},
   "outputs": [],
   "source": [
    "# Huấn luyện mô hình LightGBM với dữ liệu đã qua resample\n",
    "model_lgb = lgb.LGBMClassifier(random_state=42)\n",
    "model_lgb.fit(X_resampled_train, y_resampled_train)\n",
    "y_pred_lgb = model_lgb.predict(X_test)\n",
    "print(\"Báo cáo phân loại:\")\n",
    "print(classification_report(y_test, y_pred_lgb))\n",
    "# Plot confusion matrix\n",
    "disp = ConfusionMatrixDisplay(confusion_matrix(y_test, y_pred_lgb), display_labels=[0,1])\n",
    "disp.plot(cmap='Blues', values_format='d')\n",
    "plt.title('Confusion Matrix - LightGBM (resampled)')\n",
    "plt.show()\n",
    "print(f\"Độ chính xác của mô hình: {accuracy_score(y_test, y_pred_lgb):.4f}\")"
   ]
  },
  {
   "cell_type": "code",
   "execution_count": null,
   "metadata": {},
   "outputs": [],
   "source": [
    "# Huấn luyện mô hình SVM với dữ liệu đã qua resample\n",
    "model_svm = SVC(random_state=42)\n",
    "model_svm.fit(X_resampled_train, y_resampled_train)\n",
    "y_pred_svm = model_svm.predict(X_test)\n",
    "print(\"Báo cáo phân loại:\")\n",
    "print(classification_report(y_test, y_pred_svm))\n",
    "# Plot confusion matrix\n",
    "disp = ConfusionMatrixDisplay(confusion_matrix(y_test, y_pred_svm), display_labels=[0,1])\n",
    "disp.plot(cmap='Blues', values_format='d')\n",
    "plt.title('Confusion Matrix - SVM (resampled)')\n",
    "plt.show()\n",
    "print(f\"Độ chính xác của mô hình: {accuracy_score(y_test, y_pred_svm):.4f}\")"
   ]
  },
  {
   "cell_type": "code",
   "execution_count": null,
   "metadata": {},
   "outputs": [],
   "source": [
    "# Huấn luyện mô hình Tabnet với dữ liệu đã qua resample\n",
    "model_tabnet = TabNetClassifier(seed=42)\n",
    "\n",
    "# đảm bảo inputs là numpy.ndarray (np.asarray hỗ trợ cả pandas và numpy)\n",
    "X_tabnet_train = np.asarray(X_resampled_train)\n",
    "y_tabnet_train = np.asarray(y_resampled_train)\n",
    "X_tabnet_test = np.asarray(X_test)\n",
    "\n",
    "model_tabnet.fit(X_tabnet_train, y_tabnet_train, max_epochs=100, patience=10, batch_size=1024, virtual_batch_size=128)\n",
    "\n",
    "y_pred_tabnet = model_tabnet.predict(X_tabnet_test)\n",
    "print(\"Báo cáo phân loại:\")\n",
    "print(classification_report(y_test, y_pred_tabnet))\n",
    "# Plot confusion matrix\n",
    "disp = ConfusionMatrixDisplay(confusion_matrix(y_test, y_pred_tabnet), display_labels=[0,1])\n",
    "disp.plot(cmap='Blues', values_format='d')\n",
    "plt.title('Confusion Matrix - TabNet (resampled)')\n",
    "plt.show()\n",
    "print(f\"Độ chính xác của mô hình: {accuracy_score(y_test, y_pred_tabnet):.4f}\")"
   ]
  },
  {
   "cell_type": "markdown",
   "metadata": {},
   "source": [
    "Xây dựng mô hình với bộ dữ liệu đã qua resample bằng phương pháp SMOTE và loại bỏ outliers"
   ]
  },
  {
   "cell_type": "code",
   "execution_count": null,
   "metadata": {},
   "outputs": [],
   "source": [
    "# Dùng data đã qua resample và loại bỏ outliers để train model\n",
    "model = LogisticRegression(max_iter=1000)\n",
    "model.fit(X_resampled_cleaned_outliers_train, y_resampled_cleaned_outliers_train)\n",
    "y_pred = model.predict(X_cleaned_outliers_test)\n",
    "print(\"Báo cáo phân loại:\")\n",
    "print(classification_report(y_cleaned_outliers_test, y_pred))\n",
    "# Plot confusion matrix\n",
    "disp = ConfusionMatrixDisplay(confusion_matrix(y_cleaned_outliers_test, y_pred), display_labels=[0,1])\n",
    "disp.plot(cmap='Blues', values_format='d')\n",
    "plt.title('Confusion Matrix - Logistic Regression (resampled + outliers removed)')\n",
    "plt.show()\n",
    "print(f\"Độ chính xác của mô hình: {accuracy_score(y_cleaned_outliers_test, y_pred):.4f}\")"
   ]
  },
  {
   "cell_type": "code",
   "execution_count": null,
   "metadata": {},
   "outputs": [],
   "source": [
    "# Dùng data đã qua resample và clean outliers để train mô hình decision tree\n",
    "model_dt = DecisionTreeClassifier(random_state=42)\n",
    "model_dt.fit(X_resampled_cleaned_outliers_train, y_resampled_cleaned_outliers_train)\n",
    "\n",
    "y_pred_dt = model_dt.predict(X_cleaned_outliers_test)\n",
    "\n",
    "print(\"Báo cáo phân loại:\")\n",
    "print(classification_report(y_cleaned_outliers_test, y_pred_dt))\n",
    "# Plot confusion matrix\n",
    "disp = ConfusionMatrixDisplay(confusion_matrix(y_cleaned_outliers_test, y_pred_dt), display_labels=[0,1])\n",
    "disp.plot(cmap='Blues', values_format='d')\n",
    "plt.title('Confusion Matrix - Decision Tree (resampled + outliers removed)')\n",
    "plt.show()\n",
    "print(f\"Độ chính xác của mô hình: {accuracy_score(y_cleaned_outliers_test, y_pred_dt):.4f}\")"
   ]
  },
  {
   "cell_type": "code",
   "execution_count": null,
   "metadata": {},
   "outputs": [],
   "source": [
    "# Huấn luyện mô hình RandomForest và đánh giá với dữ liệu đã qua resample và loại bỏ outliers\n",
    "model_rf = RandomForestClassifier(n_estimators=100, random_state=42)\n",
    "model_rf.fit(X_resampled_cleaned_outliers_train, y_resampled_cleaned_outliers_train)\n",
    "y_pred_rf = model_rf.predict(X_cleaned_outliers_test)\n",
    "print(\"Báo cáo phân loại:\")\n",
    "print(classification_report(y_cleaned_outliers_test, y_pred_rf))\n",
    "# Plot confusion matrix\n",
    "disp = ConfusionMatrixDisplay(confusion_matrix(y_cleaned_outliers_test, y_pred_rf), display_labels=[0,1])\n",
    "disp.plot(cmap='Blues', values_format='d')\n",
    "plt.title('Confusion Matrix - RandomForest (resampled + outliers removed)')\n",
    "plt.show()\n",
    "print(f\"Độ chính xác của mô hình: {accuracy_score(y_cleaned_outliers_test, y_pred_rf):.4f}\")"
   ]
  },
  {
   "cell_type": "code",
   "execution_count": null,
   "metadata": {},
   "outputs": [],
   "source": [
    "# Huan luyện mô hình KNN với dữ liệu đã qua resample và loại bỏ outliers cho K chạy từ 1 đến 30\n",
    "best_k = 1\n",
    "best_accuracy = 0\n",
    "for k in range(1, 31):\n",
    "    model_knn = KNeighborsClassifier(n_neighbors=k)\n",
    "    model_knn.fit(X_resampled_cleaned_outliers_train, y_resampled_cleaned_outliers_train)\n",
    "    y_pred_knn = model_knn.predict(X_cleaned_outliers_test)\n",
    "    accuracy = accuracy_score(y_cleaned_outliers_test, y_pred_knn)\n",
    "    if accuracy > best_accuracy:\n",
    "        best_accuracy = accuracy\n",
    "        best_k = k\n",
    "print(f\"Giá trị k tốt nhất: {best_k} với độ chính xác: {best_accuracy:.4f}\")\n",
    "model_knn = KNeighborsClassifier(n_neighbors=best_k)   \n",
    "model_knn.fit(X_resampled_cleaned_outliers_train, y_resampled_cleaned_outliers_train)\n",
    "y_pred_knn = model_knn.predict(X_cleaned_outliers_test)\n",
    "print(\"Báo cáo phân loại:\")\n",
    "print(classification_report(y_cleaned_outliers_test, y_pred_knn))\n",
    "# Plot confusion matrix\n",
    "disp = ConfusionMatrixDisplay(confusion_matrix(y_cleaned_outliers_test, y_pred_knn), display_labels=[0,1])\n",
    "disp.plot(cmap='Blues', values_format='d')\n",
    "plt.title('Confusion Matrix - KNN (resampled + outliers removed)')\n",
    "plt.show()\n",
    "print(f\"Độ chính xác của mô hình: {accuracy_score(y_cleaned_outliers_test, y_pred_knn):.4f}\")"
   ]
  },
  {
   "cell_type": "code",
   "execution_count": null,
   "metadata": {},
   "outputs": [],
   "source": [
    "# Huấn luyện mô hình XGBoost với dữ liệu đã qua resample và loại bỏ outliers\n",
    "model_xgb = XGBClassifier(eval_metric='logloss', use_label_encoder=False, random_state=42)\n",
    "model_xgb.fit(X_resampled_cleaned_outliers_train, y_resampled_cleaned_outliers_train)\n",
    "y_pred_xgb = model_xgb.predict(X_cleaned_outliers_test)\n",
    "\n",
    "print(\"Báo cáo phân loại:\")\n",
    "print(classification_report(y_cleaned_outliers_test, y_pred_xgb))\n",
    "disp = ConfusionMatrixDisplay(confusion_matrix(y_cleaned_outliers_test, y_pred_xgb), display_labels=[0,1])\n",
    "disp.plot(cmap='Blues', values_format='d')\n",
    "plt.title('Confusion Matrix - XGBoost (resampled + outliers removed)')\n",
    "plt.show()\n",
    "print(f\"Độ chính xác của mô hình: {accuracy_score(y_cleaned_outliers_test, y_pred_xgb):.4f}\")"
   ]
  },
  {
   "cell_type": "code",
   "execution_count": null,
   "metadata": {},
   "outputs": [],
   "source": [
    "# Huấn luyện mô hình LightGBM với dữ liệu đã qua resample và loại bỏ outliers\n",
    "model_lgb = lgb.LGBMClassifier(random_state=42)\n",
    "model_lgb.fit(X_resampled_cleaned_outliers_train, y_resampled_cleaned_outliers_train)\n",
    "y_pred_lgb = model_lgb.predict(X_cleaned_outliers_test)\n",
    "print(\"Báo cáo phân loại:\") \n",
    "print(classification_report(y_cleaned_outliers_test, y_pred_lgb))\n",
    "print(\"Ma trận nhầm lẫn:\")\n",
    "print(confusion_matrix(y_cleaned_outliers_test, y_pred_lgb))\n",
    "print(f\"Độ chính xác của mô hình: {accuracy_score(y_cleaned_outliers_test, y_pred_lgb):.4f}\")"
   ]
  },
  {
   "cell_type": "code",
   "execution_count": null,
   "metadata": {},
   "outputs": [],
   "source": [
    "# Huấn luyện mô hình SVM với dữ liệu đã qua resample và loại bỏ outliers\n",
    "model_svm = SVC(random_state=42)\n",
    "model_svm.fit(X_resampled_cleaned_outliers_train, y_resampled_cleaned_outliers_train)\n",
    "y_pred_svm = model_svm.predict(X_cleaned_outliers_test)\n",
    "print(\"Báo cáo phân loại:\")\n",
    "print(classification_report(y_cleaned_outliers_test, y_pred_svm))\n",
    "print(\"Ma trận nhầm lẫn:\")\n",
    "print(confusion_matrix(y_cleaned_outliers_test, y_pred_svm))\n",
    "print(f\"Độ chính xác của mô hình: {accuracy_score(y_cleaned_outliers_test, y_pred_svm):.4f}\")"
   ]
  },
  {
   "cell_type": "code",
   "execution_count": null,
   "metadata": {},
   "outputs": [],
   "source": [
    "# Huấn luyện mô hình Tabnet với dữ liệu đã qua resample\n",
    "model_tabnet = TabNetClassifier(seed=42)\n",
    "\n",
    "# đảm bảo inputs là numpy.ndarray (hỗ trợ cả pandas và numpy)\n",
    "X_tabnet_train = np.asarray(X_resampled_train)\n",
    "y_tabnet_train = np.asarray(y_resampled_train)\n",
    "X_tabnet_test = np.asarray(X_test)\n",
    "\n",
    "model_tabnet.fit(X_tabnet_train, y_tabnet_train, max_epochs=100, patience=10, batch_size=1024, virtual_batch_size=128)\n",
    "\n",
    "y_pred_tabnet = model_tabnet.predict(X_tabnet_test)\n",
    "print(\"Báo cáo phân loại:\")\n",
    "print(classification_report(y_test, y_pred_tabnet))\n",
    "# Plot confusion matrix\n",
    "disp = ConfusionMatrixDisplay(confusion_matrix(y_test, y_pred_tabnet), display_labels=[0,1])\n",
    "disp.plot(cmap='Blues', values_format='d')\n",
    "plt.title('Confusion Matrix - TabNet (resampled)')\n",
    "plt.show()\n",
    "print(f\"Độ chính xác của mô hình: {accuracy_score(y_test, y_pred_tabnet):.4f}\")"
   ]
  },
  {
   "cell_type": "code",
   "execution_count": null,
   "metadata": {},
   "outputs": [],
   "source": [
    "# Dùng tensorflow để xây dựng mô hình ANN (Artificial Neural Network)\n",
    "model_ann = tf.keras.Sequential([\n",
    "    tf.keras.layers.Dense(128, activation='relu', input_shape=(X_resampled_top12_train.shape[1],)),\n",
    "    tf.keras.layers.Dropout(0.2),\n",
    "    tf.keras.layers.Dense(64, activation='relu'),\n",
    "    tf.keras.layers.Dropout(0.2),\n",
    "    tf.keras.layers.Dense(32, activation='relu'),\n",
    "    tf.keras.layers.Dense(1, activation='sigmoid')\n",
    "])\n",
    "model_ann.compile(optimizer='adam', loss='binary_crossentropy', metrics=['accuracy'])\n",
    "model_ann.fit(X_resampled_top12_train, y_resampled_top12_train, epochs=50, batch_size=32, validation_split=0.2, verbose=1)\n",
    "y_pred_ann = (model_ann.predict(X_top_12_test) > 0.5).astype(\"int32\")\n",
    "print(\"Báo cáo phân loại:\")\n",
    "print(classification_report(y_top_12_test, y_pred_ann))\n",
    "print(\"Ma trận nhầm lẫn:\")\n",
    "print(confusion_matrix(y_top_12_test, y_pred_ann))\n",
    "print(f\"Độ chính xác của mô hình: {accuracy_score(y_top_12_test, y_pred_ann):.4f}\")\n"
   ]
  },
  {
   "cell_type": "code",
   "execution_count": null,
   "metadata": {},
   "outputs": [],
   "source": [
    "# Dùng tensorflow để xây dựng mô hình ANN (Artificial Neural Network)\n",
    "model_ann = tf.keras.Sequential([\n",
    "    tf.keras.layers.Dense(128, activation='relu', input_shape=(X_resampled_top12_train.shape[1],)),\n",
    "    tf.keras.layers.Dropout(0.2),\n",
    "    tf.keras.layers.Dense(64, activation='relu'),\n",
    "    tf.keras.layers.Dropout(0.2),\n",
    "    tf.keras.layers.Dense(32, activation='relu'),\n",
    "    tf.keras.layers.Dense(1, activation='sigmoid')\n",
    "])\n",
    "model_ann.compile(optimizer='adam', loss='binary_crossentropy', metrics=['accuracy'])\n",
    "model_ann.fit(X_resampled_top12_train, y_resampled_top_12_train, epochs=50, batch_size=32, validation_split=0.2, verbose=1)\n",
    "\n",
    "y_pred_ann = (model_ann.predict(X_top_12_test) > 0.5).astype(\"int32\")\n",
    "print(\"Báo cáo phân loại:\")\n",
    "print(classification_report(y_top_12_test, y_pred_ann))\n",
    "print(\"Ma trận nhầm lẫn:\")\n",
    "print(confusion_matrix(y_top_12_test, y_pred_ann))\n",
    "print(f\"Độ chính xác của mô hình: {accuracy_score(y_top_12_test, y_pred_ann):.4f}\")\n"
   ]
  },
  {
   "cell_type": "markdown",
   "metadata": {},
   "source": [
    "Huấn luyện mô hình với bộ dữ liệu chỉ lấy ra 12 đặc trưng quan trọng nhất"
   ]
  },
  {
   "cell_type": "code",
   "execution_count": null,
   "metadata": {},
   "outputs": [],
   "source": [
    "# Huấn luyện các mô hình với bộ dữ liệu chỉ lấy ra 12 đặc trưng quan trọng nhất\n",
    "# Huấn luyện mô hình Logistic Regression và đánh giá với dữ liệu chỉ có 12 đặc trưng quan trọng nhất\n",
    "model = LogisticRegression(max_iter=1000)\n",
    "model.fit(X_top_12_train, y_top_12_train)\n",
    "y_pred = model.predict(X_top_12_test)\n",
    "print(\"Báo cáo phân loại:\")\n",
    "print(classification_report(y_top_12_test, y_pred))\n",
    "# Plot confusion matrix\n",
    "disp = ConfusionMatrixDisplay(confusion_matrix(y_top_12_test, y_pred), display_labels=[0,1])\n",
    "disp.plot(cmap='Blues', values_format='d')\n",
    "plt.title('Confusion Matrix - Logistic Regression (top 12 features)')\n",
    "plt.show()\n",
    "print(f\"Độ chính xác của mô hình: {accuracy_score(y_top_12_test, y_pred):.4f}\")\n",
    "\n",
    "# Huấn luyện mô hình Decision Tree và đánh giá với dữ liệu chỉ có 12 đặc trưng quan trọng nhất\n",
    "model_dt = DecisionTreeClassifier(random_state=42)\n",
    "model_dt.fit(X_top_12_train, y_top_12_train)\n",
    "y_pred_dt = model_dt.predict(X_top_12_test)\n",
    "print(\"Báo cáo phân loại:\")\n",
    "print(classification_report(y_top_12_test, y_pred_dt))\n",
    "# Plot confusion matrix\n",
    "disp = ConfusionMatrixDisplay(confusion_matrix(y_top_12_test, y_pred_dt), display_labels=[0,1])\n",
    "disp.plot(cmap='Blues', values_format='d')\n",
    "plt.title('Confusion Matrix - Decision Tree (top 12 features)')\n",
    "plt.show()\n",
    "print(f\"Độ chính xác của mô hình: {accuracy_score(y_top_12_test, y_pred_dt):.4f}\")\n",
    "\n",
    "# Huấn luyện mô hình RandomForest và đánh giá với dữ liệu chỉ có 12 đặc trưng quan trọng nhất\n",
    "model_rf = RandomForestClassifier(n_estimators=100, random_state=42)\n",
    "model_rf.fit(X_top_12_train, y_top_12_train)\n",
    "y_pred_rf = model_rf.predict(X_top_12_test)\n",
    "print(\"Báo cáo phân loại:\")\n",
    "print(classification_report(y_top_12_test, y_pred_rf))\n",
    "# Plot confusion matrix\n",
    "disp = ConfusionMatrixDisplay(confusion_matrix(y_top_12_test, y_pred_rf), display_labels=[0,1])\n",
    "disp.plot(cmap='Blues', values_format='d')\n",
    "plt.title('Confusion Matrix - Random Forest (top 12 features)')\n",
    "plt.show()\n",
    "print(f\"Độ chính xác của mô hình: {accuracy_score(y_top_12_test, y_pred_rf):.4f}\")\n",
    "\n",
    "# Huấn luyện mô hình KNN với dữ liệu chỉ có 12 đặc trưng quan trọng nhất cho K chạy từ 1 đến 30\n",
    "best_k = 1\n",
    "best_accuracy = 0\n",
    "for k in range(1, 31):\n",
    "    model_knn = KNeighborsClassifier(n_neighbors=k)\n",
    "    model_knn.fit(X_top_12_train, y_top_12_train)\n",
    "    y_pred_knn = model_knn.predict(X_top_12_test)\n",
    "    accuracy = accuracy_score(y_top_12_test, y_pred_knn)\n",
    "    if accuracy > best_accuracy:\n",
    "        best_accuracy = accuracy\n",
    "        best_k = k\n",
    "print(f\"Giá trị K tốt nhất: {best_k}\")\n",
    "model_knn = KNeighborsClassifier(n_neighbors=best_k)\n",
    "model_knn.fit(X_top_12_train, y_top_12_train)\n",
    "y_pred_knn = model_knn.predict(X_top_12_test)\n",
    "print(\"Báo cáo phân loại:\")\n",
    "print(classification_report(y_top_12_test, y_pred_knn))\n",
    "# Plot confusion matrix\n",
    "disp = ConfusionMatrixDisplay(confusion_matrix(y_top_12_test, y_pred_knn), display_labels=[0,1])\n",
    "disp.plot(cmap='Blues', values_format='d')\n",
    "plt.title('Confusion Matrix - KNN (top 12 features)')\n",
    "plt.show()\n",
    "print(f\"Độ chính xác của mô hình: {accuracy_score(y_top_12_test, y_pred_knn):.4f}\")\n",
    "\n",
    "# Huấn luyện mô hình XGBoost với dữ liệu chỉ có 12 đặc trưng quan trọng nhất\n",
    "model_xgb = XGBClassifier(eval_metric='logloss', use_label_encoder=False, random_state=42)\n",
    "model_xgb.fit(X_top_12_train, y_top_12_train)\n",
    "y_pred_xgb = model_xgb.predict(X_top_12_test)\n",
    "print(\"Báo cáo phân loại:\")\n",
    "print(classification_report(y_top_12_test, y_pred_xgb))\n",
    "# Plot confusion matrix\n",
    "disp = ConfusionMatrixDisplay(confusion_matrix(y_top_12_test, y_pred_xgb), display_labels=[0,1])\n",
    "disp.plot(cmap='Blues', values_format='d')\n",
    "plt.title('Confusion Matrix - XGBoost (top 12 features)')\n",
    "plt.show()\n",
    "print(f\"Độ chính xác của mô hình: {accuracy_score(y_top_12_test, y_pred_xgb):.4f}\")\n",
    "model_lgb = lgb.LGBMClassifier(random_state=42)\n",
    "model_lgb.fit(X_top_12_train, y_top_12_train)\n",
    "y_pred_lgb = model_lgb.predict(X_top_12_test)\n",
    "print(\"Báo cáo phân loại:\")\n",
    "print(classification_report(y_top_12_test, y_pred_lgb))\n",
    "# Plot confusion matrix\n",
    "disp = ConfusionMatrixDisplay(confusion_matrix(y_top_12_test, y_pred_lgb), display_labels=[0,1])\n",
    "disp.plot(cmap='Blues', values_format='d')\n",
    "plt.title('Confusion Matrix - LightGBM (top 12 features)')\n",
    "plt.show()\n",
    "print(f\"Độ chính xác của mô hình: {accuracy_score(y_top_12_test, y_pred_lgb):.4f}\")\n",
    "\n",
    "# Huấn luyện mô hình SVM với dữ liệu chỉ có 12 đặc trưng quan trọng nhất\n",
    "model_svm = SVC(random_state=42)\n",
    "model_svm.fit(X_top_12_train, y_top_12_train)\n",
    "y_pred_svm = model_svm.predict(X_top_12_test)\n",
    "print(\"Báo cáo phân loại:\")\n",
    "print(classification_report(y_top_12_test, y_pred_svm))\n",
    "# Plot confusion matrix\n",
    "disp = ConfusionMatrixDisplay(confusion_matrix(y_top_12_test, y_pred_svm), display_labels=[0,1])\n",
    "disp.plot(cmap='Blues', values_format='d')\n",
    "plt.title('Confusion Matrix - SVM (top 12 features)')\n",
    "plt.show()\n",
    "print(f\"Độ chính xác của mô hình: {accuracy_score(y_top_12_test, y_pred_svm):.4f}\")\n",
    "\n",
    "# Huấn luyện mô hình Tabnet với dữ liệu chỉ có 12 đặc trưng quan trọng nhất\n",
    "X_tabnet = X_top_12_train if isinstance(X_top_12_train, np.ndarray) else X_top_12_train.values\n",
    "y_tabnet = y_top_12_train if isinstance(y_top_12_train, np.ndarray) else y_top_12_train.values\n",
    "model_tabnet = TabNetClassifier(seed=42)\n",
    "model_tabnet.fit(X_tabnet, y_tabnet, max_epochs=100, patience=10, batch_size=1024, virtual_batch_size=128)\n",
    "X_test_tabnet = X_top_12_test if isinstance(X_top_12_test, np.ndarray) else X_top_12_test.values\n",
    "y_pred_tabnet = model_tabnet.predict(X_test_tabnet)\n",
    "print(\"Báo cáo phân loại:\")\n",
    "print(classification_report(y_top_12_test, y_pred_tabnet))\n",
    "# Plot confusion matrix\n",
    "disp = ConfusionMatrixDisplay(confusion_matrix(y_top_12_test, y_pred_tabnet), display_labels=[0,1])\n",
    "disp.plot(cmap='Blues', values_format='d')\n",
    "plt.title('Confusion Matrix - TabNet (top 12 features)')\n",
    "plt.show()\n",
    "print(f\"Độ chính xác của mô hình: {accuracy_score(y_top_12_test, y_pred_tabnet):.4f}\")\n",
    "\n"
   ]
  },
  {
   "cell_type": "markdown",
   "metadata": {},
   "source": [
    "Huấn luyện các mô hình với dữ liệu chỉ lấy 12 đặc trưng quan trọng nhất và có resampled bằng SMOTE\n"
   ]
  },
  {
   "cell_type": "code",
   "execution_count": null,
   "metadata": {},
   "outputs": [],
   "source": [
    "# Huấn luyện các mô hình với bộ dữ liệu chỉ lấy ra 12 đặc trưng quan trọng nhất và resample bằng SMOTE\n",
    "# Huấn luyện mô hình Logistic Regression và đánh giá với dữ liệu chỉ có 12 đặc trưng quan trọng nhất\n",
    "model = LogisticRegression(max_iter=1000)\n",
    "model.fit(X_resampled_top_12_train, y_resampled_top_12_train)\n",
    "y_pred = model.predict(X_top_12_test)\n",
    "print(\"Báo cáo phân loại:\")\n",
    "print(classification_report(y_top_12_test, y_pred))\n",
    "# Plot confusion matrix\n",
    "disp = ConfusionMatrixDisplay(confusion_matrix(y_top_12_test, y_pred), display_labels=[0,1])\n",
    "disp.plot(cmap='Blues', values_format='d')\n",
    "plt.title('Confusion Matrix - Logistic Regression (top 12 features)')\n",
    "plt.show()\n",
    "print(f\"Độ chính xác của mô hình: {accuracy_score(y_top_12_test, y_pred):.4f}\")\n",
    "\n",
    "# Huấn luyện mô hình Decision Tree và đánh giá với dữ liệu chỉ có 12 đặc trưng quan trọng nhất\n",
    "model_dt = DecisionTreeClassifier(random_state=42)\n",
    "model_dt.fit(X_resampled_top_12_train, y_resampled_top_12_train)\n",
    "y_pred_dt = model_dt.predict(X_top_12_test)\n",
    "print(\"Báo cáo phân loại:\")\n",
    "print(classification_report(y_top_12_test, y_pred_dt))\n",
    "# Plot confusion matrix\n",
    "disp = ConfusionMatrixDisplay(confusion_matrix(y_top_12_test, y_pred_dt), display_labels=[0,1])\n",
    "disp.plot(cmap='Blues', values_format='d')\n",
    "plt.title('Confusion Matrix - Decision Tree (top 12 features)')\n",
    "plt.show()\n",
    "print(f\"Độ chính xác của mô hình: {accuracy_score(y_top_12_test, y_pred_dt):.4f}\")\n",
    "\n",
    "# Huấn luyện mô hình RandomForest và đánh giá với dữ liệu chỉ có 12 đặc trưng quan trọng nhất\n",
    "model_rf = RandomForestClassifier(n_estimators=100, random_state=42)\n",
    "model_rf.fit(X_resampled_top_12_train, y_resampled_top_12_train)\n",
    "y_pred_rf = model_rf.predict(X_top_12_test)\n",
    "print(\"Báo cáo phân loại:\")\n",
    "print(classification_report(y_top_12_test, y_pred_rf))\n",
    "# Plot confusion matrix\n",
    "disp = ConfusionMatrixDisplay(confusion_matrix(y_top_12_test, y_pred_rf), display_labels=[0,1])\n",
    "disp.plot(cmap='Blues', values_format='d')\n",
    "plt.title('Confusion Matrix - Random Forest (top 12 features)')\n",
    "plt.show()\n",
    "print(f\"Độ chính xác của mô hình: {accuracy_score(y_top_12_test, y_pred_rf):.4f}\")\n",
    "\n",
    "# Huấn luyện mô hình KNN với dữ liệu chỉ có 12 đặc trưng quan trọng nhất cho K chạy từ 1 đến 30\n",
    "best_k = 1\n",
    "best_accuracy = 0\n",
    "for k in range(1, 31):\n",
    "    model_knn = KNeighborsClassifier(n_neighbors=k)\n",
    "    model_knn.fit(X_resampled_top_12_train, y_resampled_top_12_train)\n",
    "    y_pred_knn = model_knn.predict(X_top_12_test)\n",
    "    accuracy = accuracy_score(y_top_12_test, y_pred_knn)\n",
    "    if accuracy > best_accuracy:\n",
    "        best_accuracy = accuracy\n",
    "        best_k = k\n",
    "print(f\"Giá trị K tốt nhất: {best_k}\")\n",
    "model_knn = KNeighborsClassifier(n_neighbors=best_k)\n",
    "model_knn.fit(X_resampled_top_12_train, y_resampled_top_12_train)\n",
    "y_pred_knn = model_knn.predict(X_top_12_test)\n",
    "print(\"Báo cáo phân loại:\")\n",
    "print(classification_report(y_top_12_test, y_pred_knn))\n",
    "# Plot confusion matrix\n",
    "disp = ConfusionMatrixDisplay(confusion_matrix(y_top_12_test, y_pred_knn), display_labels=[0,1])\n",
    "disp.plot(cmap='Blues', values_format='d')\n",
    "plt.title('Confusion Matrix - KNN (top 12 features)')\n",
    "plt.show()\n",
    "print(f\"Độ chính xác của mô hình: {accuracy_score(y_top_12_test, y_pred_knn):.4f}\")\n",
    "\n",
    "# Huấn luyện mô hình XGBoost với dữ liệu chỉ có 12 đặc trưng quan trọng nhất\n",
    "model_xgb = XGBClassifier(eval_metric='logloss', use_label_encoder=False, random_state=42)\n",
    "model_xgb.fit(X_resampled_top_12_train, y_resampled_top_12_train)\n",
    "y_pred_xgb = model_xgb.predict(X_top_12_test)\n",
    "print(\"Báo cáo phân loại:\")\n",
    "print(classification_report(y_top_12_test, y_pred_xgb))\n",
    "# Plot confusion matrix\n",
    "disp = ConfusionMatrixDisplay(confusion_matrix(y_top_12_test, y_pred_xgb), display_labels=[0,1])\n",
    "disp.plot(cmap='Blues', values_format='d')\n",
    "plt.title('Confusion Matrix - XGBoost (top 12 features)')\n",
    "plt.show()\n",
    "print(f\"Độ chính xác của mô hình: {accuracy_score(y_top_12_test, y_pred_xgb):.4f}\")\n",
    "model_lgb = lgb.LGBMClassifier(random_state=42)\n",
    "model_lgb.fit(X_top_12_train, y_top_12_train)\n",
    "y_pred_lgb = model_lgb.predict(X_top_12_test)\n",
    "print(\"Báo cáo phân loại:\")\n",
    "print(classification_report(y_top_12_test, y_pred_lgb))\n",
    "# Plot confusion matrix\n",
    "disp = ConfusionMatrixDisplay(confusion_matrix(y_top_12_test, y_pred_lgb), display_labels=[0,1])\n",
    "disp.plot(cmap='Blues', values_format='d')\n",
    "plt.title('Confusion Matrix - LightGBM (top 12 features)')\n",
    "plt.show()\n",
    "print(f\"Độ chính xác của mô hình: {accuracy_score(y_top_12_test, y_pred_lgb):.4f}\")\n",
    "\n",
    "# Huấn luyện mô hình SVM với dữ liệu chỉ có 12 đặc trưng quan trọng nhất\n",
    "model_svm = SVC(random_state=42)\n",
    "model_svm.fit(X_resampled_top_12_train, y_resampled_top_12_train)\n",
    "y_pred_svm = model_svm.predict(X_top_12_test)\n",
    "print(\"Báo cáo phân loại:\")\n",
    "print(classification_report(y_top_12_test, y_pred_svm))\n",
    "# Plot confusion matrix\n",
    "disp = ConfusionMatrixDisplay(confusion_matrix(y_top_12_test, y_pred_svm), display_labels=[0,1])\n",
    "disp.plot(cmap='Blues', values_format='d')\n",
    "plt.title('Confusion Matrix - SVM (top 12 features)')\n",
    "plt.show()\n",
    "print(f\"Độ chính xác của mô hình: {accuracy_score(y_top_12_test, y_pred_svm):.4f}\")\n",
    "\n",
    "# Huấn luyện mô hình Tabnet với dữ liệu chỉ có 12 đặc trưng quan trọng nhất\n",
    "X_tabnet = X_resampled_top_12_train if isinstance(X_resampled_top_12_train, np.ndarray) else X_resampled_top_12_train.values\n",
    "y_tabnet = y_resampled_top_12_train if isinstance(y_resampled_top_12_train, np.ndarray) else y_resampled_top_12_train.values\n",
    "model_tabnet = TabNetClassifier(seed=42)\n",
    "model_tabnet.fit(X_tabnet, y_tabnet, max_epochs=100, patience=10, batch_size=1024, virtual_batch_size=128)\n",
    "X_test_tabnet = X_top_12_test if isinstance(X_top_12_test, np.ndarray) else X_top_12_test.values\n",
    "y_pred_tabnet = model_tabnet.predict(X_test_tabnet)\n",
    "print(\"Báo cáo phân loại:\")\n",
    "print(classification_report(y_top_12_test, y_pred_tabnet))\n",
    "# Plot confusion matrix\n",
    "disp = ConfusionMatrixDisplay(confusion_matrix(y_top_12_test, y_pred_tabnet), display_labels=[0,1])\n",
    "disp.plot(cmap='Blues', values_format='d')\n",
    "plt.title('Confusion Matrix - TabNet (top 12 features)')\n",
    "plt.show()\n",
    "print(f\"Độ chính xác của mô hình: {accuracy_score(y_top_12_test, y_pred_tabnet):.4f}\")\n",
    "\n"
   ]
  },
  {
   "cell_type": "markdown",
   "metadata": {},
   "source": [
    "# Tinh chỉnh các mô hình\n"
   ]
  },
  {
   "cell_type": "code",
   "execution_count": null,
   "metadata": {},
   "outputs": [],
   "source": [
    "\n",
    "# Tinh chỉnh mô hình sử dụng GridSearchCV cho Random Forest và Logistic Regression\n",
    "# GridSearch cho Random Forest\n",
    "param_grid_rf = {\n",
    "    'n_estimators': [100, 200, 300],\n",
    "    'max_depth': [None, 10, 20, 30],\n",
    "    'min_samples_split': [2, 5, 10]\n",
    "}\n",
    "grid_rf = GridSearchCV(RandomForestClassifier(random_state=42), param_grid_rf, cv=5, scoring='f1_weighted', n_jobs=-1)\n",
    "grid_rf.fit(X_resampled_train, y_resampled_train)\n",
    "print(f\"Best parameters for Random Forest: {grid_rf.best_params_}\")\n",
    "print(f\"Best accuracy for Random Forest: {grid_rf.best_score_:.4f}\")\n",
    "best_rf = grid_rf.best_estimator_\n",
    "from sklearn.metrics import f1_score, precision_recall_curve\n",
    "# 1. Lấy xác suất dự đoán cho lớp '1' (nghỉ việc) trên tập TEST\n",
    "y_pred_proba = best_rf.predict_proba(X_test)[:, 1]\n",
    "\n",
    "# 2. Tìm F1-score cao nhất bằng cách thử nhiều ngưỡng\n",
    "best_f1 = 0\n",
    "best_threshold = 0\n",
    "for threshold in np.arange(0.1, 0.6, 0.01): # Thử các ngưỡng từ 0.1 đến 0.5\n",
    "    y_pred_custom = (y_pred_proba >= threshold).astype(int)\n",
    "    f1 = f1_score(y_test, y_pred_custom, pos_label=1)\n",
    "    \n",
    "    if f1 > best_f1:\n",
    "        best_f1 = f1\n",
    "        best_threshold = threshold\n",
    "\n",
    "print(f\"Ngưỡng (threshold) tốt nhất: {best_threshold:.2f}\")\n",
    "print(f\"F1-score cao nhất có thể đạt được: {best_f1:.4f}\")\n",
    "\n",
    "# 3. Đánh giá lại với ngưỡng tốt nhất\n",
    "y_pred_final = (y_pred_proba >= best_threshold).astype(int)\n",
    "print(\"\\n--- Classification Report với Ngưỡng Tốt Nhất ---\")\n",
    "print(classification_report(y_test, y_pred_final))\n",
    "\n",
    "# GridSearch cho Logistic Regression\n",
    "param_grid_lr = {\n",
    "    'C': [0.01, 0.1, 1, 10, 100],\n",
    "    'solver': ['lbfgs', 'liblinear']\n",
    "}\n",
    "grid_lr = GridSearchCV(LogisticRegression(max_iter=1000), param_grid_lr, cv=5, scoring='f1', n_jobs=-1)\n",
    "grid_lr.fit(X_resampled_train, y_resampled_train)\n",
    "print(f\"Best parameters for Logistic Regression: {grid_lr.best_params_}\")\n",
    "print(f\"Best accuracy for Logistic Regression: {grid_lr.best_score_:.4f}\")\n",
    "\n",
    "# Đánh giá lại trên tập kiểm tra\n",
    "best_rf = grid_rf.best_estimator_\n",
    "best_lr = grid_lr.best_estimator_\n",
    "\n",
    "y_pred_rf_best = best_rf.predict(X_test)\n",
    "y_pred_lr_best = best_lr.predict(X_test)\n",
    "\n",
    "print(\"\\nRandom Forest sau tinh chỉnh:\")\n",
    "print(classification_report(y_test, y_pred_rf_best))\n",
    "print(f\"Độ chính xác: {accuracy_score(y_test, y_pred_rf_best):.4f}\")\n",
    "\n",
    "print(\"\\nLogistic Regression sau tinh chỉnh:\")\n",
    "print(classification_report(y_test, y_pred_lr_best))\n",
    "print(f\"Độ chính xác: {accuracy_score(y_test, y_pred_lr_best):.4f}\")\n",
    "\n"
   ]
  },
  {
   "cell_type": "markdown",
   "metadata": {},
   "source": [
    "Lưu lại các mô hình đã qua huấn luyện và các dataset qua các giai đoạn tiền xử lý khác nhau"
   ]
  },
  {
   "cell_type": "code",
   "execution_count": null,
   "metadata": {},
   "outputs": [],
   "source": [
    "# Lưu mô hình đã huấn luyện sử dụng joblib\n",
    "joblib.dump(best_rf, 'best_random_forest_model.pkl')\n",
    "joblib.dump(best_lr, 'best_logistic_regression_model.pkl')\n",
    "joblib.dump(model_knn, 'best_knn_model.pkl')\n",
    "joblib.dump(model_dt, 'best_decision_tree_model.pkl')\n",
    "joblib.dump(model_tabnet, 'best_tabnet_model.pkl')\n",
    "joblib.dump(model_xgb, 'best_xgboost_model.pkl')\n",
    "joblib.dump(model_lgb, 'best_lightgbm_model.pkl')\n",
    "joblib.dump(model_svm, 'best_svm_model.pkl')\n",
    "# Load mô hình và dự đoán lại để kiểm tra\n",
    "loaded_rf = joblib.load('best_random_forest_model.pkl')\n",
    "loaded_lr = joblib.load('best_logistic_regression_model.pkl')\n",
    "loaded_knn = joblib.load('best_knn_model.pkl')\n",
    "loaded_dt = joblib.load('best_decision_tree_model.pkl')\n",
    "loaded_tabnet = joblib.load('best_tabnet_model.pkl')\n",
    "loaded_xgb = joblib.load('best_xgboost_model.pkl')\n",
    "loaded_lgb = joblib.load('best_lightgbm_model.pkl')\n",
    "loaded_svm = joblib.load('best_svm_model.pkl')\n"
   ]
  }
 ],
 "metadata": {
  "colab": {
   "authorship_tag": "ABX9TyORX3gKBc3rKazcLtZ0ayuX",
   "include_colab_link": true,
   "provenance": []
  },
  "kernelspec": {
   "display_name": "Python 3",
   "name": "python3"
  },
  "language_info": {
   "codemirror_mode": {
    "name": "ipython",
    "version": 3
   },
   "file_extension": ".py",
   "mimetype": "text/x-python",
   "name": "python",
   "nbconvert_exporter": "python",
   "pygments_lexer": "ipython3",
   "version": "3.12.6"
  }
 },
 "nbformat": 4,
 "nbformat_minor": 0
}
